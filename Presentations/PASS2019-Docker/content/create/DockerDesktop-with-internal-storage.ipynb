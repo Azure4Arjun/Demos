{
    "metadata": {
        "kernelspec": {
            "name": "powershell",
            "display_name": "PowerShell"
        },
        "language_info": {
            "name": "powershell",
            "codemirror_mode": "shell",
            "mimetype": "text/x-sh",
            "file_extension": ".ps1"
        }
    },
    "nbformat_minor": 2,
    "nbformat": 4,
    "cells": [
        {
            "cell_type": "markdown",
            "source": [
                "<img src=\"https://github.com/GodStorm91/mobydock/blob/master/mobydock/static/docker-logo.png?raw=true\" width=\"10%\"> ➕\r\n",
                "<img src=\"https://github.com/Microsoft/azuredatastudio/blob/master/samples/notebookSamples/Graphics/AzureDataStudioLogo.png?raw=true\" width=\"6.5%\"> = ❤\r\n",
                "\r\n",
                "# This PowerShell Notebook will walk you through how to setup a SQL-on-Linux instance in a Docker container, on your local [Windows] machine."
            ],
            "metadata": {
                "azdata_cell_guid": "8b67ebc5-adc4-4c63-b031-a65ed6da83d8"
            }
        },
        {
            "cell_type": "markdown",
            "source": [
                "### Prerequisite Steps\r\n",
                "0) Before any of this can work, you must have Docker Destop running. \r\n",
                "    You must also have the latest SqlServer module installed from the PowerShell Gallery.\r\n",
                "`Install-Module SqlServer`"
            ],
            "metadata": {
                "azdata_cell_guid": "a13c803a-7630-4598-a3c1-3d0768dde1f5"
            }
        },
        {
            "cell_type": "code",
            "source": [
                "Install-Module SqlServer;\r\n",
                "Import-Module SqlServer;"
            ],
            "metadata": {
                "azdata_cell_guid": "442ce06d-d3b7-4f07-99c1-6bd0d392daa1"
            },
            "outputs": [],
            "execution_count": 0
        },
        {
            "cell_type": "markdown",
            "source": [
                "0B) Use the code to download the AdventureWorks2016.bak file from GitHub"
            ],
            "metadata": {
                "azdata_cell_guid": "86711704-efb9-49f6-b2fa-d0a12b66bf41"
            }
        },
        {
            "cell_type": "code",
            "source": [
                "$BakURL = \"https://github.com/Microsoft/sql-server-samples/releases/download/adventureworks/AdventureWorks2016.bak\";\r\n",
                "$BakFile = \"$($Home)/Downloads/AdventureWorks2016.bak\";\r\n",
                "Invoke-WebRequest -Uri $BakURL -OutFile $BakFile;"
            ],
            "metadata": {
                "azdata_cell_guid": "0cbe9aeb-4952-476f-85ff-986420bed65f"
            },
            "outputs": [
                {
                    "output_type": "stream",
                    "name": "stdout",
                    "text": "$BakURL = \"https://github.com/Microsoft/sql-server-samples/releases/download/adventureworks/AdventureWorks2016.bak\";\n$BakFile = \"$($Home)/Downloads/AdventureWorks2016.bak\";\nInvoke-WebRequest -Uri $BakURL -OutFile $BakFile;\n"
                }
            ],
            "execution_count": 35
        },
        {
            "cell_type": "markdown",
            "source": [
                "0C) Create a local directory for the container to use to store database files, outside of the container."
            ],
            "metadata": {
                "azdata_cell_guid": "670d3d31-b2df-496a-a631-cc1d3b1d5bb1"
            }
        },
        {
            "cell_type": "code",
            "source": [
                "mkdir C:/SQLData/Docker/SQLDev01"
            ],
            "metadata": {
                "azdata_cell_guid": "491ca260-3f58-4659-a4a1-1f872667dc20"
            },
            "outputs": [
                {
                    "output_type": "stream",
                    "name": "stdout",
                    "text": "\n\n    Directory: C:\\SQLData\\Docker\n\n\nMode                LastWriteTime         Length Name                                                                  \n----                -------------         ------ ----                                                                  \nd-----        7/29/2019   2:58 PM                SQLDev67                                                              \n\n\n"
                }
            ],
            "execution_count": 3
        },
        {
            "cell_type": "markdown",
            "source": [
                "## Create your SQL-on-Linux Docker Container\r\n",
                "1) Create a SQL-on-Linux Docker Container with just the code below.\r\n",
                "    NOTE: You may want to change the password used for the SA account.\r\n",
                "    You may also want to change the Volumne path: \"C:\\SQLData\\Docker\\SQLDev01\""
            ],
            "metadata": {
                "azdata_cell_guid": "ddec71ef-9eaa-4d6d-a1dc-3c98030ec7c3"
            }
        },
        {
            "cell_type": "code",
            "source": [
                "docker run -d -p 10001:1433 -e ACCEPT_EULA=Y -e SA_PASSWORD=Test1234 --name testcontainer01 mcr.microsoft.com/mssql/server:2019-latest"
            ],
            "metadata": {
                "azdata_cell_guid": "d130a52a-f684-42e8-8b3b-04c226767929"
            },
            "outputs": [
                {
                    "name": "stdout",
                    "text": "571715f109792189a0fcba1fa0ac70e481d91573a99b888218329cb436853e3c\n",
                    "output_type": "stream"
                }
            ],
            "execution_count": 6
        },
        {
            "cell_type": "markdown",
            "source": [
                "Verify that the SQL instance in the container is up & running"
            ],
            "metadata": {
                "azdata_cell_guid": "9df052d2-344c-427f-840d-58ebc5835343"
            }
        },
        {
            "cell_type": "code",
            "source": [
                "docker ps"
            ],
            "metadata": {
                "azdata_cell_guid": "c7c53abb-35a8-46af-b83d-c99a0309f696"
            },
            "outputs": [
                {
                    "name": "stdout",
                    "text": "CONTAINER ID        IMAGE                                        COMMAND                  CREATED             STATUS              PORTS                     NAMES\n571715f10979        mcr.microsoft.com/mssql/server:2019-latest   \"/opt/mssql/bin/perm…\"   30 seconds ago      Up 30 seconds       0.0.0.0:10001->1433/tcp   testcontainer01\n41f9a28848ab        mcr.microsoft.com/mssql/server:2019-latest   \"/opt/mssql/bin/perm…\"   13 hours ago        Up 13 hours         0.0.0.0:10003->1433/tcp   testcontainer03\n",
                    "output_type": "stream"
                }
            ],
            "execution_count": 8
        },
        {
            "cell_type": "code",
            "source": [
                "$SqlCred = (Get-Credential sa)"
            ],
            "metadata": {
                "azdata_cell_guid": "265c1cfa-b94b-4da8-8bf3-18a9a490b8c5"
            },
            "outputs": [
                {
                    "name": "stdout",
                    "text": "",
                    "output_type": "stream"
                }
            ],
            "execution_count": 2
        },
        {
            "cell_type": "markdown",
            "source": [
                "Verify that the SQL instance in the container is up & running"
            ],
            "metadata": {
                "azdata_cell_guid": "fec0a4ae-8909-412f-a09f-1a54291cbebb"
            }
        },
        {
            "cell_type": "code",
            "source": [
                "Get-SqlInstance -ServerInstance 'localhost,10001' -Credential $SqlCred"
            ],
            "metadata": {
                "azdata_cell_guid": "8e4c4a2c-313c-48ca-8a01-356b49dc7f0c"
            },
            "outputs": [
                {
                    "name": "stdout",
                    "text": "\nInstance Name                   Version    ProductLevel UpdateLevel  HostPlatform HostDistribution                \n-------------                   -------    ------------ -----------  ------------ ----------------                \nlocalhost,10001                 15.0.2070  RTM          n/a          Linux        Ubuntu                          \n\n\n",
                    "output_type": "stream"
                }
            ],
            "execution_count": 10
        },
        {
            "cell_type": "markdown",
            "source": [
                "Now verify the container only has the system databases."
            ],
            "metadata": {
                "azdata_cell_guid": "82ea9a7f-afc2-4ea2-87b2-1ac13534de29"
            }
        },
        {
            "cell_type": "code",
            "source": [
                "Get-SqlDatabase -ServerInstance 'localhost,10001' -Credential $SqlCred"
            ],
            "metadata": {
                "azdata_cell_guid": "96cd6088-b6e0-4f27-8486-b835c4ce1f48"
            },
            "outputs": [
                {
                    "name": "stdout",
                    "text": "\nName                 Status           Size     Space  Recovery Compat. Owner                     Collation             \n                                            Available  Model     Level                                                 \n----                 ------           ---- ---------- -------- ------- -----                     ---------             \nmaster               Normal        6.44 MB 1008.00 KB Simple       150 sa                        SQL_Latin1_General_CP1\n                                                                                                 _CI_AS                \nmodel                Normal       16.00 MB    5.70 MB Full         150 sa                        SQL_Latin1_General_CP1\n                                                                                                 _CI_AS                \nmsdb                 Normal       13.88 MB    1.41 MB Simple       150 sa                        SQL_Latin1_General_CP1\n                                                                                                 _CI_AS                \ntempdb               Normal       24.00 MB   13.34 MB Simple       150 sa                        SQL_Latin1_General_CP1\n                                                                                                 _CI_AS                \n\n\n. { Get-SqlDatabase -ServerInstance 'localhost,10001' -Credential $SqlCred }\n",
                    "output_type": "stream"
                }
            ],
            "execution_count": 12
        },
        {
            "cell_type": "markdown",
            "source": [
                "2) Copy the backup file to the directory your container volume is mapped to.\r\n",
                "    Make sure you use the location you stored the .bak file in.\r\n",
                "\r\n",
                "The next command is mandatoru for placing the backup file in a location accessible to the `Restore-SqlDatabase` command below.\r\n",
                ""
            ],
            "metadata": {
                "azdata_cell_guid": "905b89e4-778f-497b-8fb5-34338432f858"
            }
        },
        {
            "cell_type": "code",
            "source": [
                "docker cp \"$($Home)/Downloads/AdventureWorks2016.bak\" testcontainer01:'var/opt/mssql/data/'"
            ],
            "metadata": {
                "azdata_cell_guid": "06bfb526-9ca3-44a3-bcea-d78654a4f578"
            },
            "outputs": [
                {
                    "name": "stdout",
                    "text": "",
                    "output_type": "stream"
                }
            ],
            "execution_count": 16
        },
        {
            "cell_type": "markdown",
            "source": [
                "This next step is optional, just to allow you to verify the .BAK file has been copied to the correct location.\r\n",
                "\r\n",
                "These next two commands should be run inside the Azure Data Studio terminal, **not within the PowerShell Notebook** itself.\r\n",
                "\r\n",
                "```\r\n",
                "docker exec -it testcontainer01 bash\r\n",
                "```\r\n",
                "Once inside of bash, run this simple command to search for the .BAK file:\r\n",
                "```\r\n",
                "ls var/opt/mssql/data/\r\n",
                "```"
            ],
            "metadata": {
                "azdata_cell_guid": "73e3017d-56fd-4498-a948-2a23b58e7279"
            }
        },
        {
            "cell_type": "markdown",
            "source": [
                "3) Restore the AdventureWorks2016 databas"
            ],
            "metadata": {
                "azdata_cell_guid": "94f9332b-2664-47d9-ace0-b6c0f22d52a1"
            }
        },
        {
            "cell_type": "code",
            "source": [
                "Restore-SqlDatabase -ServerInstance 'localhost,10001' -Credential $SqlCred -BackupFile '/var/opt/mssql/data/AdventureWorks2016.bak' -Database 'AdventureWorks2016' -AutoRelocateFile"
            ],
            "metadata": {
                "azdata_cell_guid": "884e3cf3-2b5e-44c5-9888-e36d6bdf54c3"
            },
            "outputs": [
                {
                    "name": "stdout",
                    "text": "",
                    "output_type": "stream"
                }
            ],
            "execution_count": 20
        },
        {
            "cell_type": "code",
            "source": [
                "Get-SqlDatabase -ServerInstance 'localhost,10001' -Credential $SqlCred"
            ],
            "metadata": {
                "azdata_cell_guid": "fef2c579-f72c-45c1-9eb3-26a0e320d2d4"
            },
            "outputs": [
                {
                    "name": "stdout",
                    "text": "\nName                 Status           Size     Space  Recovery Compat. Owner                     Collation             \n                                            Available  Model     Level                                                 \n----                 ------           ---- ---------- -------- ------- -----                     ---------             \nAdventureWorks2016   Normal      209.63 MB    1.31 MB Simple       130 sa                        SQL_Latin1_General_CP1\n                                                                                                 _CI_AS                \nmaster               Normal        6.44 MB 1008.00 KB Simple       150 sa                        SQL_Latin1_General_CP1\n                                                                                                 _CI_AS                \nmodel                Normal       16.00 MB    5.70 MB Full         150 sa                        SQL_Latin1_General_CP1\n                                                                                                 _CI_AS                \nmsdb                 Normal       15.50 MB    1.14 MB Simple       150 sa                        SQL_Latin1_General_CP1\n                                                                                                 _CI_AS                \ntempdb               Normal       24.00 MB   13.34 MB Simple       150 sa                        SQL_Latin1_General_CP1\n                                                                                                 _CI_AS                \n\n\n",
                    "output_type": "stream"
                }
            ],
            "execution_count": 22
        }
    ]
}