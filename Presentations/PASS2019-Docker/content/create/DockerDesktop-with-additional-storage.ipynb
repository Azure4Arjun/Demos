{
    "metadata": {
        "kernelspec": {
            "name": "powershell",
            "display_name": "PowerShell"
        },
        "language_info": {
            "name": "powershell",
            "codemirror_mode": "shell",
            "mimetype": "text/x-sh",
            "file_extension": ".ps1"
        }
    },
    "nbformat_minor": 2,
    "nbformat": 4,
    "cells": [
        {
            "cell_type": "markdown",
            "source": [
                "<img src=\"https://github.com/GodStorm91/mobydock/blob/master/mobydock/static/docker-logo.png?raw=true\" width=\"10%\"> ➕\r\n",
                "<img src=\"https://github.com/Microsoft/azuredatastudio/blob/master/samples/notebookSamples/Graphics/AzureDataStudioLogo.png?raw=true\" width=\"6.5%\"> = ❤\r\n",
                "\r\n",
                "# This PowerShell Notebook will walk you through how to setup a SQL-on-Linux instance in a Docker container, on your local [Windows] machine."
            ],
            "metadata": {
                "azdata_cell_guid": "f9a5d28b-e6c8-412c-af2f-a45b0fa71788"
            }
        },
        {
            "cell_type": "markdown",
            "source": [
                "## Preparation Steps\r\n",
                "0A) Before any of this can work, you must have Docker Destop running. \r\n",
                "    You must also have the latest SqlServer module installed from the PowerShell Gallery.\r\n",
                "Install-Module SqlServe"
            ],
            "metadata": {
                "azdata_cell_guid": "6bd24900-3f21-4442-a73d-adfb6e7a13de"
            }
        },
        {
            "cell_type": "code",
            "source": [
                "Import-Module SqlServer;"
            ],
            "metadata": {
                "azdata_cell_guid": "99d99e9e-7f76-4266-bd8d-8aebe7b07bce"
            },
            "outputs": [],
            "execution_count": 0
        },
        {
            "cell_type": "markdown",
            "source": [
                "0C) Create a local directory for the container to use to store database files, outside of the container."
            ],
            "metadata": {
                "azdata_cell_guid": "f00cf47c-c4a3-47af-bf0e-50fcd05e952f"
            }
        },
        {
            "cell_type": "code",
            "source": [
                "mkdir C:/SQLData/Docker/SQLDev03"
            ],
            "metadata": {
                "azdata_cell_guid": "80d65bf0-04fe-427c-83ec-4686da06be7b"
            },
            "outputs": [
                {
                    "output_type": "stream",
                    "name": "stdout",
                    "text": "mkdir : An item with the specified name C:\\SQLData\\Docker\\SQLDev03 already exists.\nAt line:1 char:5\n+ . { mkdir C:/SQLData/Docker/SQLDev03 }\n+     ~~~~~~~~~~~~~~~~~~~~~~~~~~~~~~~~\n    + CategoryInfo          : ResourceExists: (C:\\SQLData\\Docker\\SQLDev03:String) [New-Item], IOException\n    + FullyQualifiedErrorId : DirectoryExist,Microsoft.PowerShell.Commands.NewItemCommand\n \n"
                }
            ],
            "execution_count": 2
        },
        {
            "cell_type": "markdown",
            "source": [
                "## Create your SQL-on-Linux Docker Container\r\n",
                "1) Create a SQL-on-Linux Docker Container with just the code below.\r\n",
                "    NOTE: You may want to change the password used for the SA account.\r\n",
                "    You may also want to change the Volumne path: \"C:\\SQLData\\Docker\\SQLDev03\""
            ],
            "metadata": {
                "azdata_cell_guid": "28ac1794-8cc0-4c88-892c-5c60d2dfd259"
            }
        },
        {
            "cell_type": "code",
            "source": [
                "docker create -v /sqldata -v /sqllog --name sqlfiles03 ubuntu"
            ],
            "metadata": {
                "azdata_cell_guid": "a92e64a7-1c9b-4900-b533-988930705054"
            },
            "outputs": [
                {
                    "output_type": "stream",
                    "name": "stdout",
                    "text": "Unable to find image 'ubuntu:latest' locally\nlatest: Pulling from library/ubuntu\n7ddbc47eeb70: Pulling fs layer\nc1bbdc448b72: Pulling fs layer\n8c3b70e39044: Pulling fs layer\n45d437916d57: Pulling fs layer\n45d437916d57: Waiting\nc1bbdc448b72: Verifying Checksum\nc1bbdc448b72: Download complete\n8c3b70e39044: Verifying Checksum\n8c3b70e39044: Download complete\n45d437916d57: Verifying Checksum\n45d437916d57: Download complete\n7ddbc47eeb70: Verifying Checksum\n7ddbc47eeb70: Download complete\n7ddbc47eeb70: Pull complete\nc1bbdc448b72: Pull complete\n8c3b70e39044: Pull complete\n45d437916d57: Pull complete\nDigest: sha256:6e9f67fa63b0323e9a1e587fd71c561ba48a034504fb804fd26fd8800039835d\nStatus: Downloaded newer image for ubuntu:latest\n1054d98e3fe0f4063dbcb6eafd6aae20f77bf7fd69cc07a2336fa6fcb09ac947\n"
                }
            ],
            "execution_count": 2
        },
        {
            "cell_type": "code",
            "source": [
                "docker run -d -p 10003:1433 -v C:\\SQLData\\Docker\\SQLDev03:/sqlserver -e ACCEPT_EULA=Y -e SA_PASSWORD=Test1234 --name testcontainer03 mcr.microsoft.com/mssql/server:2019-latest"
            ],
            "metadata": {
                "azdata_cell_guid": "ec7fcf2f-a145-4b17-b6e7-3372e5125252"
            },
            "outputs": [
                {
                    "output_type": "stream",
                    "name": "stdout",
                    "text": "41f9a28848ab7a79bd273705ced22747c1ad88d38945b96821c7dc74fe04260e\n"
                }
            ],
            "execution_count": 4
        },
        {
            "cell_type": "markdown",
            "source": [
                "Verify that the SQL instance in the container is up & running"
            ],
            "metadata": {
                "azdata_cell_guid": "524c9758-cb0c-41b1-a301-a1dba643fe01"
            }
        },
        {
            "cell_type": "code",
            "source": [
                "$SqlCred = (Get-Credential sa)\r\n",
                "Get-SqlDatabase -ServerInstance 'localhost,10003' -Credential $SqlCred"
            ],
            "metadata": {
                "azdata_cell_guid": "c9de7777-19b2-496e-b769-6dfde1eb64cc"
            },
            "outputs": [
                {
                    "output_type": "stream",
                    "name": "stdout",
                    "text": "\nName                 Status           Size     Space  Recovery Compat. Owner                     Collation             \n                                            Available  Model     Level                                                 \n----                 ------           ---- ---------- -------- ------- -----                     ---------             \nmaster               Normal        6.44 MB 1008.00 KB Simple       150 sa                        SQL_Latin1_General_CP1\n                                                                                                 _CI_AS                \nmodel                Normal       16.00 MB    5.70 MB Full         150 sa                        SQL_Latin1_General_CP1\n                                                                                                 _CI_AS                \nmsdb                 Normal       13.88 MB    1.41 MB Simple       150 sa                        SQL_Latin1_General_CP1\n                                                                                                 _CI_AS                \ntempdb               Normal       24.00 MB   13.40 MB Simple       150 sa                        SQL_Latin1_General_CP1\n                                                                                                 _CI_AS                \n\n\n. { $SqlCred = (Get-Credential sa)\n>> Get-SqlDatabase -ServerInst"
                }
            ],
            "execution_count": 6
        },
        {
            "cell_type": "markdown",
            "source": [
                "2) Copy the backup file to the directory your container volume is mapped to.\r\n",
                "    Make sure you use the location you stored the .bak file in."
            ],
            "metadata": {
                "azdata_cell_guid": "dc68c1cc-ee8e-49d6-b7e9-ee06b47b5d86"
            }
        },
        {
            "cell_type": "code",
            "source": [
                "Copy-Item -Path \"$($Home)\\Downloads\\AdventureWorks2016.bak\" -Destination C:\\SQLData\\Docker\\SQLDev03"
            ],
            "metadata": {
                "azdata_cell_guid": "7d9bee60-36e9-47d4-a1a7-a5dc921ecbfd"
            },
            "outputs": [
                {
                    "output_type": "stream",
                    "name": "stdout",
                    "text": ""
                }
            ],
            "execution_count": 9
        },
        {
            "cell_type": "markdown",
            "source": [
                "3) Restore the AdventureWorks2016 databas"
            ],
            "metadata": {
                "azdata_cell_guid": "a392e607-87e6-42f4-9313-fa7906768d64"
            }
        },
        {
            "cell_type": "code",
            "source": [
                "Restore-SqlDatabase -ServerInstance 'localhost,10003' -Credential $SqlCred -BackupFile '/sqlserver/AdventureWorks2016.bak' -Database 'AdventureWorks2016' -AutoRelocateFile"
            ],
            "metadata": {
                "azdata_cell_guid": "b7220261-c80f-466e-a439-54faab6c0f27"
            },
            "outputs": [
                {
                    "output_type": "stream",
                    "name": "stdout",
                    "text": ""
                }
            ],
            "execution_count": 12
        },
        {
            "cell_type": "code",
            "source": [
                "Get-SqlDatabase -ServerInstance 'localhost,10003' -Credential $SqlCred"
            ],
            "metadata": {
                "azdata_cell_guid": "eaec4810-4262-4f53-814e-e562b4e2af60"
            },
            "outputs": [
                {
                    "output_type": "stream",
                    "name": "stdout",
                    "text": "\nName                 Status           Size     Space  Recovery Compat. Owner                     Collation             \n                                            Available  Model     Level                                                 \n----                 ------           ---- ---------- -------- ------- -----                     ---------             \nAdventureWorks2016   Normal      209.63 MB    1.31 MB Simple       130 sa                        SQL_Latin1_General_CP1\n                                                                                                 _CI_AS                \nmaster               Normal        6.44 MB 1008.00 KB Simple       150 sa                        SQL_Latin1_General_CP1\n                                                                                                 _CI_AS                \nmodel                Normal       16.00 MB    5.70 MB Full         150 sa                        SQL_Latin1_General_CP1\n                                                                                                 _CI_AS                \nmsdb                 Normal       15.50 MB    1.14 MB Simple       150 sa                        SQL_Latin1_General_CP1\n                                                                                                 _CI_AS                \ntempdb               Normal       24.00 MB   13.34 MB Simple       150 sa                        SQL_Latin1_General_CP1\n                                                                                                 _CI_AS                \n\n\n"
                }
            ],
            "execution_count": 14
        }
    ]
}