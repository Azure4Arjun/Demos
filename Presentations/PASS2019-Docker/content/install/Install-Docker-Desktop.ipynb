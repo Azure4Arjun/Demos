{
    "metadata": {
        "kernelspec": {
            "name": "powershell",
            "display_name": "PowerShell"
        },
        "language_info": {
            "name": "powershell",
            "codemirror_mode": "shell",
            "mimetype": "text/x-sh",
            "file_extension": ".ps1"
        }
    },
    "nbformat_minor": 2,
    "nbformat": 4,
    "cells": [
        {
            "cell_type": "markdown",
            "source": [
                "<img src=\"https://github.com/GodStorm91/mobydock/blob/master/mobydock/static/docker-logo.png?raw=true\" width=\"10%\">\n",
                "\n",
                "# This PowerShell Notebook will walk you through how to setup a Docker Desktop, on your Windows machine."
            ],
            "metadata": {
                "azdata_cell_guid": "2f7ae052-a87d-4fbb-8910-d9f63b81b470"
            }
        },
        {
            "cell_type": "markdown",
            "source": [
                "You need Docker Desktop installed for these to work.  If you don't have it installed, you can use the Chocolatey command below to install it:\r\n",
                "\r\n",
                "Note: You need to run all the commands below from an **elevated** PowerShell window.  If you want to run it from Azure Data Studio, you'll need to right-click and **Run as administrator**."
            ],
            "metadata": {
                "azdata_cell_guid": "95968033-33e7-46e2-8d0e-0725fd5b8565"
            }
        },
        {
            "cell_type": "markdown",
            "source": [
                "If you don't already have Chocolatey installed on your machine, you can install it very quickly by running the code below, which will download a PowerShell script from the internet, and run it to setup Chocolatey for you."
            ],
            "metadata": {
                "azdata_cell_guid": "38a00036-977f-488c-a77b-86be08e8db99"
            }
        },
        {
            "cell_type": "code",
            "source": [
                "Set-ExecutionPolicy Bypass -Scope Process -Force; iex ((New-Object System.Net.WebClient).DownloadString('https://chocolatey.org/install.ps1'))"
            ],
            "metadata": {
                "azdata_cell_guid": "2d05a9cb-4537-4b13-b9eb-d6a9f1bb08be"
            },
            "outputs": [],
            "execution_count": 0
        },
        {
            "cell_type": "markdown",
            "source": [
                "Once Chocalatey is installed, installing Docker Desktop (and many other software packages) can be done with a single line of code:"
            ],
            "metadata": {
                "azdata_cell_guid": "1c23bf65-d578-4f95-81f9-bd6f79dbe77c"
            }
        },
        {
            "cell_type": "code",
            "source": [
                "choco install docker-desktop"
            ],
            "metadata": {
                "azdata_cell_guid": "0f2917a2-2b87-43de-af82-936fb6dc05c5"
            },
            "outputs": [],
            "execution_count": 0
        },
        {
            "cell_type": "markdown",
            "source": [
                "If you have any trouble installing Docker Desktop from the Chocolatey package, you can download directly from the Docker website: https://www.docker.com/products/docker-desktop"
            ],
            "metadata": {
                "azdata_cell_guid": "a035a0d0-5315-428f-8f5c-48278958cbec"
            }
        }
    ]
}