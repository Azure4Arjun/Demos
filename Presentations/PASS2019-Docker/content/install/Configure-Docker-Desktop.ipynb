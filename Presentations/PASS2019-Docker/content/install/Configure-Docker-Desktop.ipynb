{
    "metadata": {
        "kernelspec": {
            "name": "powershell",
            "display_name": "PowerShell"
        },
        "language_info": {
            "name": "powershell",
            "codemirror_mode": "shell",
            "mimetype": "text/x-sh",
            "file_extension": ".ps1"
        }
    },
    "nbformat_minor": 2,
    "nbformat": 4,
    "cells": [
        {
            "cell_type": "markdown",
            "source": [
                "<img src=\"https://github.com/GodStorm91/mobydock/blob/master/mobydock/static/docker-logo.png?raw=true\" width=\"10%\"> ➕\n",
                "Your local disks = ✅\n",
                "# This Notebook will walk you through how to allow Docker to access storage on your local [Windows] machine."
            ],
            "metadata": {
                "azdata_cell_guid": "d3201302-b1f6-475c-9eca-77075e959ca4"
            }
        },
        {
            "cell_type": "markdown",
            "source": [
                "In order to complete the external storage demos, you will need to grant Docker the ability to access your local drive.  In my case, I did this by granting Docker access to one single directory, and all of it's sub-directories."
            ],
            "metadata": {
                "azdata_cell_guid": "f82a1de8-0dab-4e94-a828-2784bcfe66e3"
            }
        },
        {
            "cell_type": "markdown",
            "source": [
                "![Configure Docker Desktop to use local storage](ShareYourDrive_withDockerDesktop.jpg)"
            ],
            "metadata": {
                "azdata_cell_guid": "fc5c34b3-9556-42bd-aae6-d89ba4a30bc4"
            }
        }
    ]
}