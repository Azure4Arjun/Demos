{
    "metadata": {
        "kernelspec": {
            "name": "powershell",
            "display_name": "PowerShell"
        },
        "language_info": {
            "name": "powershell",
            "codemirror_mode": "shell",
            "mimetype": "text/x-sh",
            "file_extension": ".ps1"
        }
    },
    "nbformat_minor": 2,
    "nbformat": 4,
    "cells": [
        {
            "cell_type": "markdown",
            "source": [
                "<img src=\"https://github.com/GodStorm91/mobydock/blob/master/mobydock/static/docker-logo.png?raw=true\" width=\"10%\"> ➕\n",
                "<img src=\"https://github.com/Microsoft/azuredatastudio/blob/master/samples/notebookSamples/Graphics/AzureDataStudioLogo.png?raw=true\" width=\"6.5%\"> = ❤\n",
                "# This PowerShell Notebook will walk you through how to setup a SQL-on-Linux instance in a Docker container, on your local [Windows] machine."
            ],
            "metadata": {
                "azdata_cell_guid": "73cb9ddf-f33e-4808-9548-6d674ef2a0df"
            }
        },
        {
            "cell_type": "markdown",
            "source": [
                "Use the code to download the AdventureWorks2016.bak file from GitHub"
            ],
            "metadata": {
                "azdata_cell_guid": "6edcb907-791f-4d66-b8b4-c26be07ef2eb"
            }
        },
        {
            "cell_type": "code",
            "source": [
                "$BakURL = \"https://github.com/Microsoft/sql-server-samples/releases/download/adventureworks/AdventureWorks2016.bak\";\r\n",
                "$BakFile = \"$($Home)/Downloads/AdventureWorks2016.bak\";\r\n",
                "Invoke-WebRequest -Uri $BakURL -OutFile $BakFile;"
            ],
            "metadata": {
                "azdata_cell_guid": "4c4b45ca-e97b-4f9e-ba01-457f30e003d8"
            },
            "outputs": [],
            "execution_count": 0
        },
        {
            "cell_type": "markdown",
            "source": [
                "The code below allows you to grab all four AdventureWorksDW sample databases from GitHub, \n",
                "    then downloads and the .bak file.\n",
                "    After the .bak files are downloaded you restore the instance specified."
            ],
            "metadata": {
                "azdata_cell_guid": "58888571-0dd5-460d-8d6e-8c828ccd47eb"
            }
        },
        {
            "cell_type": "code",
            "source": [
                "$releases = Invoke-RestMethod https://api.github.com/repos/microsoft/sql-server-samples/releases\n",
                "$BaksToDownload = ($releases | where {$_.name -eq 'AdventureWorks sample databases' -or $_.name -eq 'Wide World Importers sample database v1.0'}).assets |\n",
                "WHERE { $_.name -like 'AdventureWorksDW201*bak' -and $_.name -notlike '*EXT*' } |\n",
                "SELECT name, browser_download_url, size, updated_at\n",
                "\n",
                "FOREACH( $BakInfo in $BaksToDownload )\n",
                "{\n",
                "    \"$($BakInfo.name)\";\n",
                "    Invoke-WebRequest -Uri $BakInfo.browser_download_url -OutFile \"C:\\SQLData\\Docker\\SQLDev02\\$($BakInfo.name)\"\n",
                "    Restore-SqlDatabase -ServerInstance 'localhost,10002' -Credential (Get-Credential sa) -BackupFile \"/sqlserver/$($BakInfo.name)\" -Database ($BakInfo.name -replace '.bak') -AutoRelocateFile\n",
                "}"
            ],
            "metadata": {
                "azdata_cell_guid": "2850f7bf-e38c-4517-a4a3-2002dcdcc223"
            },
            "outputs": [],
            "execution_count": 0
        }
    ]
}