{
    "metadata": {
        "kernelspec": {
            "name": "powershell",
            "display_name": "PowerShell"
        },
        "language_info": {
            "name": "powershell",
            "codemirror_mode": "shell",
            "mimetype": "text/x-sh",
            "file_extension": ".ps1"
        }
    },
    "nbformat_minor": 2,
    "nbformat": 4,
    "cells": [
        {
            "cell_type": "markdown",
            "source": "<img src=\"https://github.com/GodStorm91/mobydock/blob/master/mobydock/static/docker-logo.png?raw=true\" width=\"10%\"> ➕\r\n<img src=\"https://github.com/Microsoft/azuredatastudio/blob/master/samples/notebookSamples/Graphics/AzureDataStudioLogo.png?raw=true\" width=\"6.5%\"> = ❤\r\n\r\n# This PowerShell Notebook will walk you through how to setup a SQL-on-Linux instance in a Docker container, on your local [Windows] machine.",
            "metadata": {}
        },
        {
            "cell_type": "markdown",
            "source": "Note: You do need Docker Desktop installed for this to work.  If you don't have it installed, you can use this Chocolatey command to install it:\r\n\r\nNote: You need to run that command above from an **elevated** PowerShell window.\r\n```powershell\r\nchoco install docker-desktop -y\r\n```",
            "metadata": {}
        },
        {
            "cell_type": "markdown",
            "source": "## Preparation Steps\r\n0A) Before any of this can work, you must have Docker Destop running. \r\n    You must also have the latest SqlServer module installed from the PowerShell Gallery.\r\nInstall-Module SqlServe",
            "metadata": {}
        },
        {
            "cell_type": "code",
            "source": "Install-Module SqlServer;\r\nImport-Module SqlServer;",
            "metadata": {},
            "outputs": [],
            "execution_count": 0
        },
        {
            "cell_type": "markdown",
            "source": "0B) Use the code to download the AdventureWorks2016.bak file from GitHub",
            "metadata": {}
        },
        {
            "cell_type": "code",
            "source": "$BakURL = \"https://github.com/Microsoft/sql-server-samples/releases/download/adventureworks/AdventureWorks2016.bak\";\r\n$BakFile = \"$($Home)/Downloads/AdventureWorks2016.bak\";\r\nInvoke-WebRequest -Uri $BakURL -OutFile $BakFile;",
            "metadata": {},
            "outputs": [
                {
                    "output_type": "stream",
                    "name": "stdout",
                    "text": "$BakURL = \"https://github.com/Microsoft/sql-server-samples/releases/download/adventureworks/AdventureWorks2016.bak\";\n$BakFile = \"$($Home)/Downloads/AdventureWorks2016.bak\";\nInvoke-WebRequest -Uri $BakURL -OutFile $BakFile;\n"
                }
            ],
            "execution_count": 35
        },
        {
            "cell_type": "markdown",
            "source": "0C) Create a local directory for the container to use to store database files, outside of the container.",
            "metadata": {}
        },
        {
            "cell_type": "code",
            "source": "mkdir C:/SQLData/Docker/SQLDev67",
            "metadata": {},
            "outputs": [
                {
                    "output_type": "stream",
                    "name": "stdout",
                    "text": "\n\n    Directory: C:\\SQLData\\Docker\n\n\nMode                LastWriteTime         Length Name                                                                  \n----                -------------         ------ ----                                                                  \nd-----        7/29/2019   2:58 PM                SQLDev67                                                              \n\n\n"
                }
            ],
            "execution_count": 3
        },
        {
            "cell_type": "markdown",
            "source": "## Create your SQL-on-Linux Docker Container\r\n1) Create a SQL-on-Linux Docker Container with just the code below.\r\n    NOTE: You may want to change the password used for the SA account.\r\n    You may also want to change the Volumne path: \"C:\\SQLData\\Docker\\SQLDev67\"",
            "metadata": {}
        },
        {
            "cell_type": "code",
            "source": "docker run -d -p 10071:1433 -v C:\\SQLData\\Docker\\SQLDev71:/sqlserver -e ACCEPT_EULA=Y -e SA_PASSWORD=Test1234 --name testcontainer71 mcr.microsoft.com/mssql/server:2019-RC1-ubuntu",
            "metadata": {},
            "outputs": [
                {
                    "output_type": "stream",
                    "name": "stdout",
                    "text": "Unable to find image 'mcr.microsoft.com/mssql/server:2019-CTP3.2-ubuntu' locally\n2019-CTP3.2-ubuntu: Pulling from mssql/server\n59ab41dd721a: Already exists\n57da90bec92c: Already exists\n06fe57530625: Already exists\n5a6315cba1ff: Already exists\n739f58768b3f: Already exists\n9a9c2d5ac279: Pulling fs layer\n6df9e0d11c0e: Pulling fs layer\n0037f84f22b3: Pulling fs layer\n5f04c8abd4a7: Pulling fs layer\n5f04c8abd4a7: Waiting\n9a9c2d5ac279: Verifying Checksum\n9a9c2d5ac279: Download complete\n9a9c2d5ac279: Pull complete\n5f04c8abd4a7: Verifying Checksum\n5f04c8abd4a7: Download complete\n6df9e0d11c0e: Verifying Checksum\n6df9e0d11c0e: Download complete\n6df9e0d11c0e: Pull complete\n0037f84f22b3: Verifying Checksum\n0037f84f22b3: Download complete\n0037f84f22b3: Pull complete\n5f04c8abd4a7: Pull complete\nDigest: sha256:30828242ddb3fb43cd8e2727b19c469f43533ec951f875f7d97f0de244aeba65\nStatus: Downloaded newer image for mcr.microsoft.com/mssql/server:2019-CTP3.2-ubuntu\nc49d56c5435db9a0cf7ea3cf73e0c23314f38867703b6382cb9510060258aab6\nd"
                }
            ],
            "execution_count": 5
        },
        {
            "cell_type": "markdown",
            "source": "Verify that the SQL instance in the container is up & running",
            "metadata": {}
        },
        {
            "cell_type": "code",
            "source": "$SqlCred = (Get-Credential sa)\r\nGet-SqlDatabase -ServerInstance 'localhost,100' -Credential $SqlCred",
            "metadata": {},
            "outputs": [
                {
                    "output_type": "stream",
                    "name": "stdout",
                    "text": "\nName                 Status           Size     Space  Recovery Compat. Owner                     Collation             \n                                            Available  Model     Level                                                 \n----                 ------           ---- ---------- -------- ------- -----                     ---------             \nAdventureWorks2016   Normal      209.63 MB    1.31 MB Simple       130 sa                        SQL_Latin1_General_CP1\n                                                                                                 _CI_AS                \nmaster               Normal        6.44 MB  976.00 KB Simple       150 sa                        SQL_Latin1_General_CP1\n                                                                                                 _CI_AS                \nmodel                Normal       16.00 MB    5.70 MB Full         150 sa                        SQL_Latin1_General_CP1\n                                                                                                 _CI_AS                \nmsdb                 Normal       15.50 MB    1.14 MB Simple       150 sa                        SQL_Latin1_General_CP1\n                                                                                                 _CI_AS                \ntempdb               Normal       24.00 MB   13.34 MB Simple       150 sa                        SQL_Latin1_General_CP1\n                                                                                                 _CI_AS                \n\n\n$Sql67Cred = (Get-Credential sa)\n"
                }
            ],
            "execution_count": 31
        },
        {
            "cell_type": "markdown",
            "source": "2) Copy the backup file to the directory your container volume is mapped to.\r\n    Make sure you use the location you stored the .bak file in.",
            "metadata": {}
        },
        {
            "cell_type": "code",
            "source": "Copy-Item -Path \"$($Home)\\Downloads\\AdventureWorks2016.bak\" -Destination C:\\SQLData\\Docker\\SQLDev71",
            "metadata": {},
            "outputs": [
                {
                    "output_type": "stream",
                    "name": "stdout",
                    "text": "Get-SqlDatabase -ServerInstance 'localhost,10067' -Credential $Sql67Cred\n"
                }
            ],
            "execution_count": 32
        },
        {
            "cell_type": "markdown",
            "source": "3) Restore the AdventureWorks2016 databas",
            "metadata": {}
        },
        {
            "cell_type": "code",
            "source": "Restore-SqlDatabase -ServerInstance 'localhost,10071' -Credential $Sql71Cred -BackupFile '/sqlserver/AdventureWorks2016.bak' -Database 'AdventureWorks2016' -AutoRelocateFile",
            "metadata": {},
            "outputs": [
                {
                    "output_type": "stream",
                    "name": "stdout",
                    "text": "\nName                 Status           Size     Space  Recovery Compat. Owner                     Collation             \n                                            Available  Model     Level                                                 \n----                 ------           ---- ---------- -------- ------- -----                     ---------             \nAdventureWorks2016   Normal      209.63 MB    1.31 MB Simple       130 sa                        SQL_Latin1_General_CP1\n                                                                                                 _CI_AS                \nmaster               Normal        6.44 MB  976.00 KB Simple       150 sa                        SQL_Latin1_General_CP1\n                                                                                                 _CI_AS                \nmodel                Normal       16.00 MB    5.70 MB Full         150 sa                        SQL_Latin1_General_CP1\n                                                                                                 _CI_AS                \nmsdb                 Normal       15.50 MB    1.14 MB Simple       150 sa                        SQL_Latin1_General_CP1\n                                                                                                 _CI_AS                \ntempdb               Normal       24.00 MB   13.34 MB Simple       150 sa                        SQL_Latin1_General_CP1\n                                                                                                 _CI_AS                \n\n\n\n$Sql67Cred = (Get-Credential sa)\nGet-SqlDatabase -ServerInstance 'localhost,10067' -Credential $Sql67Cred\n\nName                 Status           Size     Space  Recovery Compat. Owner                     Collation             \n                                            Available  Model     Level                                                 \n----                 ------           ---- ---------- -------- ------- -----                     ---------             \nAdventureWorks2016   Normal      209.63 MB    1.31 MB Simple       130 sa                        SQL_Latin1_General_CP1\n                                                                                                 _CI_AS                \nmaster               Normal        6.44 MB  976.00 KB Simple       150 sa                        SQL_Latin1_General_CP1\n                                                                                                 _CI_AS                \nmodel                Normal       16.00 MB    5.70 MB Full         150 sa                        SQL_Latin1_General_CP1\n                                                                                                 _CI_AS                \nmsdb                 Normal       15.50 MB    1.14 MB Simple       150 sa                        SQL_Latin1_General_CP1\n                                                                                                 _CI_AS                \ntempdb               Normal       24.00 MB   13.34 MB Simple       150 sa                        SQL_Latin1_General_CP1\n                                                                                                 _CI_AS                \n\n\n\n$Sql67Cred = (Get-Credential sa)\nGet-SqlDatabase -ServerInstance 'localhost,10067' -Credential $Sql67Cred\nGet-SqlDatabase : Failed to connect to server localhost,10067.\nAt line:1 char:1\n+ Get-SqlDatabase -ServerInstance 'localhost,10067' -Credential $Sql67C ...\n+ ~~~~~~~~~~~~~~~~~~~~~~~~~~~~~~~~~~~~~~~~~~~~~~~~~~~~~~~~~~~~~~~~~~~~~\n    + CategoryInfo          : ObjectNotFound: (System.String[]:String[]) [Get-SqlDatabase], ConnectionFailureException\n    + FullyQualifiedErrorId : ConnectionToServerFailed,Microsoft.SqlServer.Management.PowerShell.IaaS.GetSqlDatabaseCo \n   mmand\n \n\nCopy-Item -Path \"$($Home)\\Downloads\\AdventureWorks2016.bak\" -Destination C:\\SQLData\\Docker\\SQLDev67\n"
                }
            ],
            "execution_count": 33
        }
    ]
}