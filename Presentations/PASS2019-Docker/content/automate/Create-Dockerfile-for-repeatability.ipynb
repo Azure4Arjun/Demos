{
    "metadata": {
        "kernelspec": {
            "name": "powershell",
            "display_name": "PowerShell"
        },
        "language_info": {
            "name": "powershell",
            "codemirror_mode": "shell",
            "mimetype": "text/x-sh",
            "file_extension": ".ps1"
        }
    },
    "nbformat_minor": 2,
    "nbformat": 4,
    "cells": [
        {
            "cell_type": "markdown",
            "source": [
                "<img src=\"https://github.com/GodStorm91/mobydock/blob/master/mobydock/static/docker-logo.png?raw=true\" width=\"10%\"> ➕\r\n",
                "<img src=\"https://github.com/Microsoft/azuredatastudio/blob/master/samples/notebookSamples/Graphics/AzureDataStudioLogo.png?raw=true\" width=\"6.5%\"> = ❤\r\n",
                "\r\n",
                "# This PowerShell Notebook will walk you through how to setup a SQL-on-Linux instance in a Docker container, on your local [Windows] machine."
            ],
            "metadata": {
                "azdata_cell_guid": "c428a513-d23e-460b-b8fb-e6f78ea38dc6"
            }
        },
        {
            "cell_type": "code",
            "source": [
                "$path = 'C:\\temp'\r\n",
                "docker build -t testcontainer05 $path\\Dockerfile"
            ],
            "metadata": {
                "azdata_cell_guid": "f86a6100-12d2-45ce-9d3b-e772f0a89203"
            },
            "outputs": [
                {
                    "name": "stdout",
                    "text": "unable to prepare context: context must be a directory: C:\\temp\\Dockerfile\n",
                    "output_type": "stream"
                }
            ],
            "execution_count": 3
        },
        {
            "cell_type": "markdown",
            "source": [
                "Verify that the SQL instance in the container is up & running"
            ],
            "metadata": {
                "azdata_cell_guid": "1e3f1bee-4f55-406f-9fb0-fd2d9ffa076b"
            }
        },
        {
            "cell_type": "code",
            "source": [
                "docker ps"
            ],
            "metadata": {
                "azdata_cell_guid": "1e168af2-fa64-4d5a-82e2-0dedcd7d9632"
            },
            "outputs": [
                {
                    "name": "stdout",
                    "text": "CONTAINER ID        IMAGE                                        COMMAND                  CREATED             STATUS              PORTS                     NAMES\n11c14b35246b        mcr.microsoft.com/mssql/server:2019-latest   \"/opt/mssql/bin/perm…\"   6 minutes ago       Up 6 minutes        0.0.0.0:10002->1433/tcp   testcontainer02\nf4c6a3aa4f07        mcr.microsoft.com/mssql/server:2019-latest   \"/opt/mssql/bin/perm…\"   14 minutes ago      Up 14 minutes       0.0.0.0:10003->1433/tcp   testcontainer03\n571715f10979        mcr.microsoft.com/mssql/server:2019-latest   \"/opt/mssql/bin/perm…\"   About an hour ago   Up About an hour    0.0.0.0:10001->1433/tcp   testcontainer01\n",
                    "output_type": "stream"
                }
            ],
            "execution_count": 4
        }
    ]
}