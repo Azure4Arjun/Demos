{
    "metadata": {
        "kernelspec": {
            "name": "powershell",
            "display_name": "PowerShell"
        },
        "language_info": {
            "name": "powershell",
            "codemirror_mode": "shell",
            "mimetype": "text/x-sh",
            "file_extension": ".ps1"
        }
    },
    "nbformat_minor": 2,
    "nbformat": 4,
    "cells": [
        {
            "cell_type": "markdown",
            "source": [
                "<img src=\"https://github.com/GodStorm91/mobydock/blob/master/mobydock/static/docker-logo.png?raw=true\" width=\"10%\"> ➕\r\n",
                "<img src=\"https://github.com/Microsoft/azuredatastudio/blob/master/samples/notebookSamples/Graphics/AzureDataStudioLogo.png?raw=true\" width=\"6.5%\"> = ❤\r\n",
                "\r\n",
                "# This PowerShell Notebook will walk you through how to setup a SQL-on-Linux instance in a Docker container, on your local [Windows] machine."
            ],
            "metadata": {
                "azdata_cell_guid": "ac6da4fe-0af1-42d6-a90a-4567cdc383ae"
            }
        },
        {
            "cell_type": "markdown",
            "source": [
                "You can use the `docker stop` command to shut down a container."
            ],
            "metadata": {
                "azdata_cell_guid": "c9241bbe-c3c7-41bd-8365-7a080af50684"
            }
        },
        {
            "cell_type": "code",
            "source": [
                "docker stop testcontainer01"
            ],
            "metadata": {
                "azdata_cell_guid": "f7773b46-d7f6-4b4a-98f8-de7bbe68bf28"
            },
            "outputs": [
                {
                    "name": "stdout",
                    "text": "testcontainer01\n",
                    "output_type": "stream"
                }
            ],
            "execution_count": 1
        },
        {
            "cell_type": "markdown",
            "source": [
                "If you want to completely delete the container, use the `docker rm` command"
            ],
            "metadata": {
                "azdata_cell_guid": "7817286d-a7c5-4d64-b473-2cea22402dc7"
            }
        },
        {
            "cell_type": "code",
            "source": [
                "docker rm testcontainer01"
            ],
            "metadata": {
                "azdata_cell_guid": "840129db-b487-4979-a147-9c146a92d92b"
            },
            "outputs": [
                {
                    "name": "stdout",
                    "text": "testcontainer01\n",
                    "output_type": "stream"
                }
            ],
            "execution_count": 2
        }
    ]
}