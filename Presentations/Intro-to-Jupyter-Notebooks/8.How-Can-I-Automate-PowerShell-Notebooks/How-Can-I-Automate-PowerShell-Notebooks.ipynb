{
    "metadata": {
        "kernelspec": {
            "name": "powershell",
            "display_name": "PowerShell"
        },
        "language_info": {
            "name": "powershell",
            "codemirror_mode": "shell",
            "mimetype": "text/x-sh",
            "file_extension": ".ps1"
        }
    },
    "nbformat_minor": 2,
    "nbformat": 4,
    "cells": [
        {
            "cell_type": "markdown",
            "source": [
                "What are my options to Convert a .PS1 file to a Notebook\n",
                "========================================================"
            ],
            "metadata": {
                "azdata_cell_guid": "ee986e76-b674-4aa0-ada3-9ef82c0242b4"
            }
        }
    ]
}