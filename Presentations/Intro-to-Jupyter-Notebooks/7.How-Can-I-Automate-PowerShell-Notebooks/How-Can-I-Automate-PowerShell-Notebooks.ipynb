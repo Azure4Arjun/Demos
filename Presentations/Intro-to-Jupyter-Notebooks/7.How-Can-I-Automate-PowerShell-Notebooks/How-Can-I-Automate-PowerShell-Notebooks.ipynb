{
    "metadata": {
        "kernelspec": {
            "name": "powershell",
            "display_name": "PowerShell"
        },
        "language_info": {
            "name": "powershell",
            "codemirror_mode": "shell",
            "mimetype": "text/x-sh",
            "file_extension": ".ps1"
        }
    },
    "nbformat_minor": 2,
    "nbformat": 4,
    "cells": [
        {
            "cell_type": "markdown",
            "source": [
                "# How Can I Automate PowerShell Notebooks\n",
                "\n",
                "The PowerShellNotebook module comes with a handy `Invoke-PowerShellNotebook` function."
            ],
            "metadata": {
                "azdata_cell_guid": "ee986e76-b674-4aa0-ada3-9ef82c0242b4"
            }
        }
    ]
}