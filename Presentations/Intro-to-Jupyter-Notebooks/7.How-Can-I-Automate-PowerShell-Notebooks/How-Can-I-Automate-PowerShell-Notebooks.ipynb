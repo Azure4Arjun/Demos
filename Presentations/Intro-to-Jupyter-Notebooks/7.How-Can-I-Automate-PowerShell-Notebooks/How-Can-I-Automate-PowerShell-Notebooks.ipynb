{
    "metadata": {
        "kernelspec": {
            "name": "powershell",
            "display_name": "PowerShell"
        },
        "language_info": {
            "name": "powershell",
            "codemirror_mode": "shell",
            "mimetype": "text/x-sh",
            "file_extension": ".ps1"
        }
    },
    "nbformat_minor": 2,
    "nbformat": 4,
    "cells": [
        {
            "cell_type": "markdown",
            "source": [
                "<img src=\"https://raw.githubusercontent.com/PowerShell/PowerShell/master/assets/avatar_128.svg\" width=\"8%\"> ➕\n",
                "<img src=\"https://user-images.githubusercontent.com/67258/89468449-77bfdf80-d745-11ea-894b-0cbaa4f06809.png?raw=true\" width=\"12.5%\"> ➕\n",
                "<img src=\"https://github.com/Microsoft/azuredatastudio/blob/master/samples/notebookSamples/Graphics/AzureDataStudioLogo.png?raw=true\" width=\"7.5%\"> = ❤\n",
                "\n",
                "# How Can I Automate PowerShell Notebooks\n",
                "\n",
                "The PowerShellNotebook module comes with a handy `Invoke-PowerShellNotebook` function."
            ],
            "metadata": {
                "azdata_cell_guid": "ee986e76-b674-4aa0-ada3-9ef82c0242b4"
            }
        },
        {
            "cell_type": "code",
            "source": [
                "Invoke-PowerShellNotebook -NoteBookFullName C:\\temp\\PS1Files\\demo.ipynb"
            ],
            "metadata": {
                "azdata_cell_guid": "f68bccfe-3348-4b46-a71c-7a17e9adab73"
            },
            "outputs": [
                {
                    "name": "stdout",
                    "text": "\nHandles  NPM(K)    PM(K)      WS(K)     CPU(s)     Id  SI ProcessName                                                  \n-------  ------    -----      -----     ------     --  -- -----------                                                  \n    573      34    24688      34588       3.27  12016   1 ApplicationFrameHost                                         \n    153       8     1668       7204              2096   0 AppVShNotify                                                 \n    159       9     1916       7928       0.02  23540   1 AppVShNotify                                                 \n    197      12     9636      15488       0.31   2288   0 audiodg                                                      \n    609      30   281248     304944       2.27   3684   1 azuredatastudio-insiders                                     \n    218      16    16764      68072       0.16   7724   1 azuredatastudio-insiders                                     \n    414      25    41500      89616       1.41   9872   1 azuredatastudio-insiders                                     \n    250      15     9700      25584       0.05  16860   1 azuredatastudio-insiders                                     \n    376      25    93436     143780       2.02  19700   1 azuredatastudio-insiders                                     \n    657      35   232968     262976       7.73  20988   1 azuredatastudio-insiders                                     \n\nStatus      : Running\nName        : AarSvc_163423\nDisplayName : Agent Activation Runtime_163423\n\n\nStatus      : Stopped\nName        : AJRouter\nDisplayName : AllJoyn Router Service\n\n\nStatus      : Stopped\nName        : ALG\nDisplayName : Application Layer Gateway Service\n\n\nStatus      : Stopped\nName        : AppIDSvc\nDisplayName : Application Identity\n\n\nStatus      : Running\nName        : Appinfo\nDisplayName : Application Information\n\n\nStatus      : Running\nName        : AppMgmt\nDisplayName : Application Management\n\n\nStatus      : Stopped\nName        : AppReadiness\nDisplayName : App Readiness\n\n\nStatus      : Stopped\nName        : AppVClient\nDisplayName : Microsoft App-V Client\n\n\nStatus      : Running\nName        : AppXSvc\nDisplayName : AppX Deployment Service (AppXSVC)\n\n\nStatus      : Stopped\nName        : AssignedAccessManagerSvc\nDisplayName : AssignedAccessManager Service\n\nHello World\n\n\n",
                    "output_type": "stream"
                }
            ],
            "execution_count": 1
        }
    ]
}