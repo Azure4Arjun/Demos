{
    "metadata": {
        "kernelspec": {
            "name": "powershell",
            "display_name": "PowerShell"
        },
        "language_info": {
            "name": "powershell",
            "codemirror_mode": "shell",
            "mimetype": "text/x-sh",
            "file_extension": ".ps1"
        }
    },
    "nbformat_minor": 2,
    "nbformat": 4,
    "cells": [
        {
            "cell_type": "markdown",
            "source": [
                "# Where can I use Jupyter Notebooks?\n",
                "\n",
                "⚫ Azure Data Studio [http://aka.ms/GetAzureDataStudio](http://aka.ms/GetAzureDataStudio \"http://aka.ms/GetAzureDataStudio\")  ![](https://github.com/Microsoft/azuredatastudio/blob/master/samples/notebookSamples/Graphics/AzureDataStudioLogo.png?raw=true)\n",
                "\n",
                "⚫ VS Code [https://code.visualstudio.com/Download](https://code.visualstudio.com/Download \"https://code.visualstudio.com/Download\")\n",
                "\n",
                "⚫ Jupyter Server (comes with Azure Data Studio)\n",
                "\n",
                "Whether using PowerShell Notebooks in Azure Data Studio or VS Code, please be sure to install the PowerShell extension from the marketplace.\n",
                "\n",
                "## Where can I run Jupyter Notebooks?\n",
                "\n",
                "Same list as above, plus\n",
                "\n",
                "-   Any PowerShell prompt (using the PowerShellNotebook module)\n",
                "-   SQL Server\n",
                "-   nteract (more on that in section #8)\n",
                "-   Probably some other places I haven't learned about yet 😃\n",
                "\n",
                "### But where do Jupyter Notebooks run?\n",
                "\n",
                "The default to running in `$home`\n",
                "\n",
                "### Where can I read Jupyter Notebooks?\n",
                "\n",
                "You can read Jupyter Notebooks right on GitHub, they render quite nicely.  This is important because it means you can post something as a PowerShell Notebook and people can read it.  Even if on their own machine, they are stuck running the PowerShell ISE.\n",
                "\n",
                "Furthermore, that person can download the PowerShell Notebook using the commands from the PowerShellNotebook module.  More on that in section #6."
            ],
            "metadata": {
                "azdata_cell_guid": "aa39f306-fea4-4e42-b695-831259791536"
            }
        }
    ]
}