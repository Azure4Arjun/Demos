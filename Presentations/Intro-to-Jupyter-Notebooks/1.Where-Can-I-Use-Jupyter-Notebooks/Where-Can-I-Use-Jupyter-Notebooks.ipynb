{
    "metadata": {
        "kernelspec": {
            "name": "powershell",
            "display_name": "PowerShell"
        },
        "language_info": {
            "name": "python",
            "version": ""
        }
    },
    "nbformat_minor": 2,
    "nbformat": 4,
    "cells": [
        {
            "cell_type": "markdown",
            "source": [
                "# Where can I use Jupyter Notebooks?\n",
                "\n",
                "⚫ Azure Data Studio [http://aka.ms/GetAzureDataStudio](http://aka.ms/GetAzureDataStudio \"http://aka.ms/GetAzureDataStudio\")  ![](https://github.com/Microsoft/azuredatastudio/blob/master/samples/notebookSamples/Graphics/AzureDataStudioLogo.png?raw=true)\n",
                "\n",
                "-   VS Code [https://code.visualstudio.com/Download](https://code.visualstudio.com/Download \"https://code.visualstudio.com/Download\")\n",
                "-   Jupyter Server (comes with Azure Data Studio)\n",
                "\n",
                "## Where can I run Jupyter Notebooks?\n",
                "\n",
                "Same list as above, plus\n",
                "\n",
                "-   Any PowerShell prompt (using the PowerShellNotebook module)\n",
                "-   SQL Server\n",
                "-   nteract (more on that in section #8)\n",
                "-   Probably some other places I haven't learned about yet 😃"
            ],
            "metadata": {
                "azdata_cell_guid": "aa39f306-fea4-4e42-b695-831259791536"
            }
        }
    ]
}