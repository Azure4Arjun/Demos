{
    "metadata": {
        "kernelspec": {
            "name": "powershell",
            "display_name": "PowerShell"
        },
        "language_info": {
            "name": "powershell",
            "codemirror_mode": "shell",
            "mimetype": "text/x-sh",
            "file_extension": ".ps1"
        }
    },
    "nbformat_minor": 2,
    "nbformat": 4,
    "cells": [
        {
            "cell_type": "markdown",
            "source": [
                "<img src=\"https://raw.githubusercontent.com/PowerShell/PowerShell/master/assets/avatar_128.svg\" width=\"8%\"> ➕\n",
                "<img src=\"https://user-images.githubusercontent.com/67258/89468449-77bfdf80-d745-11ea-894b-0cbaa4f06809.png?raw=true\" width=\"12.5%\"> ➕\n",
                "<img src=\"https://github.com/Microsoft/azuredatastudio/blob/master/samples/notebookSamples/Graphics/AzureDataStudioLogo.png?raw=true\" width=\"7.5%\"> = ❤\n",
                "\n",
                "What are my options to Convert a .PS1 file to a Notebook\n",
                "========================================================\n",
                "## First up, install the `PowerShellNotebook` module from the PowerShell Gallery..."
            ],
            "metadata": {
                "azdata_cell_guid": "ee986e76-b674-4aa0-ada3-9ef82c0242b4"
            }
        },
        {
            "cell_type": "code",
            "source": [
                "Install-Module PowerShellNotebook -Force"
            ],
            "metadata": {
                "azdata_cell_guid": "51e9aca2-a91e-4007-857a-0435ebdef28f"
            },
            "outputs": [],
            "execution_count": null
        },
        {
            "cell_type": "markdown",
            "source": [
                "Switch to a folder where you have a lot of `.PS1` files."
            ],
            "metadata": {
                "azdata_cell_guid": "72e0b2a4-f4eb-4e04-8cca-9bc5f9e96451"
            }
        },
        {
            "cell_type": "code",
            "source": [
                "cd c:\\temp\\PS1Files"
            ],
            "metadata": {
                "azdata_cell_guid": "d5933f98-7cae-42be-abed-f86cef6b7581"
            },
            "outputs": [],
            "execution_count": null
        },
        {
            "cell_type": "markdown",
            "source": [
                "## Here's the part where it gets good!\r\n",
                "\r\n",
                "Now use `dir` to loop over all the .SQL files in the directory, and use the `ConvertTo-SQLNoteBook` function to turn them into SQL Notebooks."
            ],
            "metadata": {
                "azdata_cell_guid": "288c087b-2bbe-46a1-8936-07f123e1f15c"
            }
        },
        {
            "cell_type": "code",
            "source": [
                "dir -Filter *.PS1 | \r\n",
                "foreach {\r\n",
                "    ConvertTo-SQLNoteBook -InputFileName $_.FullName -OutputNotebookName (Join-Path -Path (Split-Path -Path $_.FullName -Parent) -ChildPath ($_.Name -replace '.sql', '.ipynb'))\r\n",
                "}"
            ],
            "metadata": {
                "azdata_cell_guid": "eaf37208-89a8-4f84-a040-203f753aa6c9"
            },
            "outputs": [],
            "execution_count": null
        },
        {
            "cell_type": "markdown",
            "source": [
                "Check inside that same directory, and you should now see a bunch of .IPYNB files."
            ],
            "metadata": {
                "azdata_cell_guid": "647e5b1d-f14a-4d70-8e5c-11d05eb3980c"
            }
        },
        {
            "cell_type": "code",
            "source": [
                "dir -Filter *.ipynb"
            ],
            "metadata": {
                "azdata_cell_guid": "9923c5eb-162d-4241-8fd5-5215bec514d3"
            },
            "outputs": [],
            "execution_count": null
        },
        {
            "cell_type": "markdown",
            "source": [
                "Now let's have a look at one of the Notebooks we just built. Grab one and open it up in Azure Data Studio."
            ],
            "metadata": {
                "azdata_cell_guid": "e448aae3-50b5-4f61-9bc3-24dd47cc18fb"
            }
        }
    ]
}