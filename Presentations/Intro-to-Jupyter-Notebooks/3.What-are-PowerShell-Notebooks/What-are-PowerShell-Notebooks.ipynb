{
    "metadata": {
        "kernelspec": {
            "name": "powershell",
            "display_name": "PowerShell"
        },
        "language_info": {
            "name": "powershell",
            "codemirror_mode": "shell",
            "mimetype": "text/x-sh",
            "file_extension": ".ps1"
        }
    },
    "nbformat_minor": 2,
    "nbformat": 4,
    "cells": [
        {
            "cell_type": "markdown",
            "source": [
                "PowerShell Notebooks can come in two varieties, because there are two PowerShell kernels.\n",
                "\n",
                "### PowerShell\n",
                "The `PowerShell` kernel was originally written by Sergei Vorobev and is an open source project: https://github.com/vors/jupyter-powershell\n",
                "+ When running the `PowerShell` kernel on Windows, it will run Windows PowerShel 5.1\n",
                "+ When running the `PowerShell` kernel on macOS or Linux, it will run PowerShell\n",
                "\n",
                "The `PowerShell` kernel has some limitations to interactivity.  You can't do things like `Read-Host` but you can do things like `Get-Credential` and `Out-GridView ... -PassThru` when running the Notebook.\n",
                "\n",
                "### .NET (PowerShell)\n",
                "There is also `.NET (PowerShell)` from the /dotnet repo.  Also, amd open source project: https://github.com/dotnet/interactive#net-interactive-\n",
                "\n",
                "+ The `.NET (PowerShell)` kernel will run PowerShell 7 whether you're on Windows, macOS, or Linux.\n",
                "\n",
                "`.NET (PowerShell)` does work with things like `Read-Host`, and has an in-line way of working with  `Get-Credentail`.\n",
                "\n",
                "[Installation instructions](https://github.com/dotnet/interactive/blob/main/docs/NotebooksLocalExperience.md)"
            ],
            "metadata": {
                "azdata_cell_guid": "1c6bd457-5a35-4818-96d8-9f79db10f64a"
            }
        }
    ]
}