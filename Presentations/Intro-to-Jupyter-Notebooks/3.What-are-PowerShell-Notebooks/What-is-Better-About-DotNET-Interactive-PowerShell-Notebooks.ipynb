{
    "metadata": {
        "kernelspec": {
            "name": ".net-powershell",
            "display_name": ".NET (PowerShell)"
        },
        "language_info": {
            "name": "PowerShell",
            "version": "7.0",
            "mimetype": "text/x-powershell",
            "file_extension": ".ps1",
            "pygments_lexer": "powershell"
        }
    },
    "nbformat_minor": 2,
    "nbformat": 4,
    "cells": [
        {
            "cell_type": "markdown",
            "source": [
                "Here are a few highlights from what you can do with Notebooks when using the `.NET (PowerShell)` kernel."
            ],
            "metadata": {
                "azdata_cell_guid": "cd753946-02ca-49a2-bc06-e872d8735858"
            }
        },
        {
            "cell_type": "code",
            "source": [
                "Get-PSDrive | ft -AutoSize"
            ],
            "metadata": {
                "azdata_cell_guid": "b54c7559-c807-4316-9685-7e68322146d3"
            },
            "outputs": [
                {
                    "name": "stdout",
                    "text": "\r\n",
                    "output_type": "stream"
                },
                {
                    "name": "stdout",
                    "text": "Name      Used (GB) Free (GB) Provider    Root                               CurrentLocation\r\n",
                    "output_type": "stream"
                },
                {
                    "name": "stdout",
                    "text": "----      --------- --------- --------    ----                               ---------------\r\n",
                    "output_type": "stream"
                },
                {
                    "name": "stdout",
                    "text": "Alias                         Alias                                                         \r\n",
                    "output_type": "stream"
                },
                {
                    "name": "stdout",
                    "text": "C            893.76     58.79 FileSystem  C:\\                                    Users\\AaronNelson-SQLvariant\r\n",
                    "output_type": "stream"
                },
                {
                    "name": "stdout",
                    "text": "Cert                          Certificate \\                                                 \r\n",
                    "output_type": "stream"
                },
                {
                    "name": "stdout",
                    "text": "D              0.68    182.64 FileSystem  D:\\                                               \r\n",
                    "output_type": "stream"
                },
                {
                    "name": "stdout",
                    "text": "E                             FileSystem  E:\\                                               \r\n",
                    "output_type": "stream"
                },
                {
                    "name": "stdout",
                    "text": "Env                           Environment                                                   \r\n",
                    "output_type": "stream"
                },
                {
                    "name": "stdout",
                    "text": "F                             FileSystem  F:\\                                               \r\n",
                    "output_type": "stream"
                },
                {
                    "name": "stdout",
                    "text": "Function                      Function                                                      \r\n",
                    "output_type": "stream"
                },
                {
                    "name": "stdout",
                    "text": "HKCU                          Registry    HKEY_CURRENT_USER                                 \r\n",
                    "output_type": "stream"
                },
                {
                    "name": "stdout",
                    "text": "HKLM                          Registry    HKEY_LOCAL_MACHINE                                \r\n",
                    "output_type": "stream"
                },
                {
                    "name": "stdout",
                    "text": "SQLSERVER                     SqlServer   SQLSERVER:\\                                       \r\n",
                    "output_type": "stream"
                },
                {
                    "name": "stdout",
                    "text": "Temp         893.76     58.79 FileSystem  C:\\Users\\AaronNelson-SQLvariant\\AppData\\Local\\Temp\\                \r\n",
                    "output_type": "stream"
                },
                {
                    "name": "stdout",
                    "text": "Variable                      Variable                                                      \r\n",
                    "output_type": "stream"
                },
                {
                    "name": "stdout",
                    "text": "WSMan                         WSMan                                                         \r\n",
                    "output_type": "stream"
                },
                {
                    "name": "stdout",
                    "text": "\r\n",
                    "output_type": "stream"
                }
            ],
            "execution_count": 4
        },
        {
            "cell_type": "markdown",
            "source": [
                ""
            ],
            "metadata": {
                "azdata_cell_guid": "0c10656d-877e-4f34-a6a1-a02f0b434ba7"
            }
        }
    ]
}