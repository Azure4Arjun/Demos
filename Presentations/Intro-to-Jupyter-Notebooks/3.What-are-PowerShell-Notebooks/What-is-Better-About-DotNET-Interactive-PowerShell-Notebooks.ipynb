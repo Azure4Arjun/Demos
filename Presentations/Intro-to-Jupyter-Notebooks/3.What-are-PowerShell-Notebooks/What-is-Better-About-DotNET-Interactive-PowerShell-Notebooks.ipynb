{
    "metadata": {
        "kernelspec": {
            "name": ".net-powershell",
            "display_name": ".NET (PowerShell)"
        },
        "language_info": {
            "name": "python",
            "version": ""
        }
    },
    "nbformat_minor": 2,
    "nbformat": 4,
    "cells": [
        {
            "cell_type": "markdown",
            "source": [
                "Here are a few highlights from what you can do with Notebooks when using the `.NET (PowerShell)` kernel."
            ],
            "metadata": {
                "azdata_cell_guid": "cd753946-02ca-49a2-bc06-e872d8735858"
            }
        },
        {
            "cell_type": "code",
            "source": [
                "#!about"
            ],
            "metadata": {
                "azdata_cell_guid": "f6a9307a-af22-4017-acec-64f97f297a11"
            },
            "outputs": [],
            "execution_count": null
        },
        {
            "cell_type": "code",
            "source": [
                "Get-PSDrive | ft -AutoSize"
            ],
            "metadata": {
                "azdata_cell_guid": "b54c7559-c807-4316-9685-7e68322146d3"
            },
            "outputs": [
                {
                    "output_type": "stream",
                    "name": "stdout",
                    "text": "\r\n"
                },
                {
                    "output_type": "stream",
                    "name": "stdout",
                    "text": "Name      Used (GB) Free (GB) Provider    Root                               CurrentLocation\r\n"
                },
                {
                    "output_type": "stream",
                    "name": "stdout",
                    "text": "----      --------- --------- --------    ----                               ---------------\r\n"
                },
                {
                    "output_type": "stream",
                    "name": "stdout",
                    "text": "Alias                         Alias                                                         \r\n"
                },
                {
                    "output_type": "stream",
                    "name": "stdout",
                    "text": "C            893.76     58.79 FileSystem  C:\\                                    Users\\AaronNelson-SQLvariant\r\n"
                },
                {
                    "output_type": "stream",
                    "name": "stdout",
                    "text": "Cert                          Certificate \\                                                 \r\n"
                },
                {
                    "output_type": "stream",
                    "name": "stdout",
                    "text": "D              0.68    182.64 FileSystem  D:\\                                               \r\n"
                },
                {
                    "output_type": "stream",
                    "name": "stdout",
                    "text": "E                             FileSystem  E:\\                                               \r\n"
                },
                {
                    "output_type": "stream",
                    "name": "stdout",
                    "text": "Env                           Environment                                                   \r\n"
                },
                {
                    "output_type": "stream",
                    "name": "stdout",
                    "text": "F                             FileSystem  F:\\                                               \r\n"
                },
                {
                    "output_type": "stream",
                    "name": "stdout",
                    "text": "Function                      Function                                                      \r\n"
                },
                {
                    "output_type": "stream",
                    "name": "stdout",
                    "text": "HKCU                          Registry    HKEY_CURRENT_USER                                 \r\n"
                },
                {
                    "output_type": "stream",
                    "name": "stdout",
                    "text": "HKLM                          Registry    HKEY_LOCAL_MACHINE                                \r\n"
                },
                {
                    "output_type": "stream",
                    "name": "stdout",
                    "text": "SQLSERVER                     SqlServer   SQLSERVER:\\                                       \r\n"
                },
                {
                    "output_type": "stream",
                    "name": "stdout",
                    "text": "Temp         893.76     58.79 FileSystem  C:\\Users\\AaronNelson-SQLvariant\\AppData\\Local\\Temp\\                \r\n"
                },
                {
                    "output_type": "stream",
                    "name": "stdout",
                    "text": "Variable                      Variable                                                      \r\n"
                },
                {
                    "output_type": "stream",
                    "name": "stdout",
                    "text": "WSMan                         WSMan                                                         \r\n"
                },
                {
                    "output_type": "stream",
                    "name": "stdout",
                    "text": "\r\n"
                }
            ],
            "execution_count": 4
        },
        {
            "cell_type": "markdown",
            "source": [
                "As the name suggests, this kernel was designed with interactivity in mind.  Let's take a look at some of those options:"
            ],
            "metadata": {
                "azdata_cell_guid": "0c10656d-877e-4f34-a6a1-a02f0b434ba7"
            }
        },
        {
            "cell_type": "code",
            "source": [
                "Read-Host "
            ],
            "metadata": {
                "azdata_cell_guid": "cc35872d-1781-45fa-82c7-cde111bd260d"
            },
            "outputs": [],
            "execution_count": null
        },
        {
            "cell_type": "code",
            "source": [
                "Get-Credential"
            ],
            "metadata": {
                "azdata_cell_guid": "773b426b-777f-41f0-8fbe-049c8d5e9182"
            },
            "outputs": [],
            "execution_count": null
        },
        {
            "cell_type": "markdown",
            "source": [
                "If you need up update your version of .NET Interactive, try this:"
            ],
            "metadata": {
                "azdata_cell_guid": "a81d1c86-9001-4765-a2a3-34dd654977a0"
            }
        },
        {
            "cell_type": "code",
            "source": [
                "dotnet-interactive --version"
            ],
            "metadata": {
                "azdata_cell_guid": "bef098ca-5e47-468a-95f5-7dcdad58de91"
            },
            "outputs": [],
            "execution_count": null
        },
        {
            "cell_type": "code",
            "source": [
                "dotnet tool update -g Microsoft.dotnet-interactive --add-source \"https://dotnet.myget.org/F/dotnet-try/api/v3/index.json\""
            ],
            "metadata": {
                "azdata_cell_guid": "9b2be9cd-e249-49df-8665-4f91e645d2a0"
            },
            "outputs": [],
            "execution_count": null
        }
    ]
}