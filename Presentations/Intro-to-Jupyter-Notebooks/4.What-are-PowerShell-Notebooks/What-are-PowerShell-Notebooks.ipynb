{
    "metadata": {
        "kernelspec": {
            "name": "SQL",
            "display_name": "SQL",
            "language": "sql"
        },
        "language_info": {
            "name": "sql",
            "version": ""
        }
    },
    "nbformat_minor": 2,
    "nbformat": 4,
    "cells": [
        {
            "cell_type": "markdown",
            "source": [
                "PowerShell Notebooks can come in two varieties, because there are two PowerShell kernels."
            ],
            "metadata": {
                "azdata_cell_guid": "1c6bd457-5a35-4818-96d8-9f79db10f64a"
            }
        }
    ]
}