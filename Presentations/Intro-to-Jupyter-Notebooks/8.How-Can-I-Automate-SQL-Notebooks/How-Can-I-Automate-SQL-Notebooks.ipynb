{
    "metadata": {
        "kernelspec": {
            "name": ".net-powershell",
            "display_name": ".NET (PowerShell)"
        },
        "language_info": {
            "name": "PowerShell",
            "version": "7.0",
            "mimetype": "text/x-powershell",
            "file_extension": ".ps1",
            "pygments_lexer": "powershell"
        }
    },
    "nbformat_minor": 2,
    "nbformat": 4,
    "cells": [
        {
            "cell_type": "markdown",
            "source": [
                "# Invoke-SqlNotebook\r\n",
                "Your first option for automating SQL Notebooks is the Invoke-SqlNotebook cmdlet."
            ],
            "metadata": {
                "azdata_cell_guid": "2b8201c2-17b1-41e7-9ea5-4b50bdb93edf"
            }
        },
        {
            "cell_type": "code",
            "source": [
                "Import-Module SqlServer;"
            ],
            "metadata": {
                "azdata_cell_guid": "b6cb0ad5-ddc1-42cd-985a-7e98a01ec705"
            },
            "outputs": [],
            "execution_count": 2
        },
        {
            "cell_type": "markdown",
            "source": [
                "The `Invoke-SqlNotebook` is fairly straightforward to use.  There are three things you want to tell it:\r\n",
                "\r\n",
                "+ Which SQL Notebook file you want to use\r\n",
                "+ Which SQL Server database you want to connect to\r\n",
                "+ What you want to name of your results-Notbook to be (If you don't specify a name, it will echo the Notebook's name, and add `-Results` to the end)"
            ],
            "metadata": {
                "azdata_cell_guid": "37ea2e92-4973-45d6-bcd9-95ccee1175a1"
            }
        },
        {
            "cell_type": "code",
            "source": [
                "Invoke-SqlNotebook"
            ],
            "metadata": {
                "azdata_cell_guid": "77572a67-74a4-4152-910d-00c6936fb90b"
            },
            "outputs": [],
            "execution_count": null
        },
        {
            "cell_type": "markdown",
            "source": [
                "Download the Best Practices Check Notebook from the Tiger Team's GitHub repo.\r\n",
                "\r\n",
                "<img src=\"https://raw.githubusercontent.com/SQLvariant/sqlworkshops/Notebooks-demo-ThrowAway/graphics/Tiger%20Logo%201.png\" width=\"10.65%\">"
            ],
            "metadata": {
                "azdata_cell_guid": "e3e9b76d-b6f5-43d7-9206-b41f6ba9717e"
            }
        },
        {
            "cell_type": "code",
            "source": [
                "irm https://raw.githubusercontent.com/microsoft/tigertoolbox/master/BPCheck/BPCheck.ipynb -OutFile \"$home\\Downloads\\BPCheck.ipynb\""
            ],
            "metadata": {
                "azdata_cell_guid": "9c26dd0b-9dd6-46eb-ba23-c77863b27281"
            },
            "outputs": [
                {
                    "data": {
                        "text/plain": "\u001b[30;43m                                                                                                    \n Web request status                                                                                 \n    Number of bytes processed: 0                                                                    \n                                                                                                    \u001b[0m"
                    },
                    "metadata": {},
                    "output_type": "display_data"
                },
                {
                    "data": {
                        "text/plain": ""
                    },
                    "metadata": {},
                    "output_type": "display_data"
                },
                {
                    "data": {
                        "text/plain": ""
                    },
                    "metadata": {},
                    "output_type": "display_data"
                }
            ],
            "execution_count": 4
        },
        {
            "cell_type": "markdown",
            "source": [
                "# I heard you like to run Notebooks\n",
                "\n",
                "## So I created a PowerShell Notebook to execute a T-SQL Notebook, using the new Invoke-SqlNotebook PowerShell cmdlet\n",
                "\n",
                "This is a simple demonstration of how your can use a PowerShell Notebook to execute a T-SQL Notebook across all your Registered SQL Servers, using the new Invoke-SqlNotebook cmdlet. The results of the execution against each SQL Server Instance will be saved locally to it's own Output-Notebook, with a unique name."
            ],
            "metadata": {
                "azdata_cell_guid": "b3aacb26-321a-44e2-89e3-b589ec5e0b02"
            }
        },
        {
            "cell_type": "code",
            "source": [
                "dir 'SQLSERVER:\\SQLRegistration\\Database Engine Server Group'"
            ],
            "metadata": {
                "azdata_cell_guid": "91f86a6d-80c7-4cf3-adf7-a865ea886526"
            },
            "outputs": [
                {
                    "name": "stdout",
                    "text": "\r\n",
                    "output_type": "stream"
                },
                {
                    "name": "stdout",
                    "text": "\r\n",
                    "output_type": "stream"
                },
                {
                    "name": "stdout",
                    "text": "    Directory: \r\n",
                    "output_type": "stream"
                },
                {
                    "name": "stdout",
                    "text": "    Microsoft.SqlServer.Management.PSProvider\\SqlServer::SQLSERVER:\\SQLRegistration\\Database \r\n",
                    "output_type": "stream"
                },
                {
                    "name": "stdout",
                    "text": "    Engine Server Group\r\n",
                    "output_type": "stream"
                },
                {
                    "name": "stdout",
                    "text": "\r\n",
                    "output_type": "stream"
                },
                {
                    "name": "stdout",
                    "text": "\r\n",
                    "output_type": "stream"
                },
                {
                    "name": "stdout",
                    "text": "Mode Name\r\n",
                    "output_type": "stream"
                },
                {
                    "name": "stdout",
                    "text": "---- ----\r\n",
                    "output_type": "stream"
                },
                {
                    "name": "stdout",
                    "text": "d    Dockers\r\n",
                    "output_type": "stream"
                },
                {
                    "name": "stdout",
                    "text": "-    localhost\\SQL2016\r\n",
                    "output_type": "stream"
                },
                {
                    "name": "stdout",
                    "text": "-    localhost\\SQL2016Happy\r\n",
                    "output_type": "stream"
                },
                {
                    "name": "stdout",
                    "text": "-    localhost\\SQL2017\r\n",
                    "output_type": "stream"
                },
                {
                    "name": "stdout",
                    "text": "-    localhost\\SQL2019\r\n",
                    "output_type": "stream"
                },
                {
                    "name": "stdout",
                    "text": "\r\n",
                    "output_type": "stream"
                }
            ],
            "execution_count": 3
        },
        {
            "cell_type": "code",
            "source": [
                "dir 'SQLSERVER:\\SQLRegistration\\Database Engine Server Group' |\r\n",
                "WHERE { $_.Mode -ne 'd'} |\r\n",
                "foreach {\r\n",
                "    Get-SqlInstance -ServerInstance $_.Name\r\n",
                "        }"
            ],
            "metadata": {
                "azdata_cell_guid": "1733d3e4-d34c-4e92-99ea-3fc2dc717c43"
            },
            "outputs": [
                {
                    "name": "stdout",
                    "text": "\r\n",
                    "output_type": "stream"
                },
                {
                    "name": "stdout",
                    "text": "Instance Name                   Version    ProductLevel UpdateLevel  HostPlatform HostDistribution\r\n",
                    "output_type": "stream"
                },
                {
                    "name": "stdout",
                    "text": "-------------                   -------    ------------ -----------  ------------ ----------------\r\n",
                    "output_type": "stream"
                },
                {
                    "name": "stdout",
                    "text": "localhost\\SQL2016               13.0.1742  RTM          n/a          Windows      n/a\r\n",
                    "output_type": "stream"
                },
                {
                    "name": "stdout",
                    "text": "localhost\\SQL2016Happy          13.0.5622  SP2          CU11         Windows      n/a\r\n",
                    "output_type": "stream"
                },
                {
                    "name": "stdout",
                    "text": "localhost\\SQL2017               14.0.3192  RTM          CU15         Windows      Windows 10 Pro\r\n",
                    "output_type": "stream"
                },
                {
                    "name": "stdout",
                    "text": "localhost\\SQL2019               15.0.2070  RTM          n/a          Windows      Windows 10 Pro\r\n",
                    "output_type": "stream"
                },
                {
                    "name": "stdout",
                    "text": "\r\n",
                    "output_type": "stream"
                }
            ],
            "execution_count": 15
        },
        {
            "cell_type": "markdown",
            "source": [
                "Build the loop one step deeper, just using the `Get-SqlDatabase` as a placeholder to make sure things work before we switch over to using the `Invoke-SqlNotebook` cmdlet."
            ],
            "metadata": {
                "azdata_cell_guid": "2598c04a-211a-40dc-96d4-0d19eb5b57a7"
            }
        },
        {
            "cell_type": "code",
            "source": [
                "dir 'SQLSERVER:\\SQLRegistration\\Database Engine Server Group' |\r\n",
                "WHERE { $_.Mode -ne 'd'} |            \r\n",
                "foreach {\r\n",
                "    Get-SqlInstance -ServerInstance $_.Name |\r\n",
                "    foreach {\r\n",
                "            Get-SqlDatabase -ServerInstance $_.Name\r\n",
                "            }\r\n",
                "        }"
            ],
            "metadata": {
                "azdata_cell_guid": "06399e59-ea4c-4379-b394-b5cfa3549746"
            },
            "outputs": [],
            "execution_count": null
        },
        {
            "cell_type": "markdown",
            "source": [
                "OK, now that we've verified we can talk to the instances, we're finally ready to run this loop using a Notebook & record the results."
            ],
            "metadata": {
                "azdata_cell_guid": "b340ade9-439c-4f9e-8919-d1a9d1a0e336"
            }
        },
        {
            "cell_type": "code",
            "source": [
                "dir 'SQLSERVER:\\SQLRegistration\\Database Engine Server Group' |\r\n",
                "WHERE { $_.Mode -ne 'd'} |\r\n",
                "foreach {\r\n",
                "    Get-SqlInstance -ServerInstance $_.Name |\r\n",
                "    foreach {\r\n",
                "            Invoke-SqlNotebook -ServerInstance $_.Name -Database master -InputFile \"$home\\Downloads\\BPCheck.ipynb\" `\r\n",
                "            -OutputFile \"c:\\temp\\BPChecks\\BPCheck_output_$($_.NetName)_$($_.InstanceName)_$(Get-Date -Format yyyyMMdd).ipynb\"\r\n",
                "            }\r\n",
                "        }"
            ],
            "metadata": {
                "azdata_cell_guid": "b9b0a13e-89c8-4c05-b4cb-0f616335d028"
            },
            "outputs": [
                {
                    "name": "stdout",
                    "text": "\r\n",
                    "output_type": "stream"
                },
                {
                    "name": "stdout",
                    "text": "\r\n",
                    "output_type": "stream"
                },
                {
                    "name": "stdout",
                    "text": "    Directory: C:\\temp\\BPChecks\r\n",
                    "output_type": "stream"
                },
                {
                    "name": "stdout",
                    "text": "\r\n",
                    "output_type": "stream"
                },
                {
                    "name": "stdout",
                    "text": "Mode                 LastWriteTime         Length Name\r\n",
                    "output_type": "stream"
                },
                {
                    "name": "stdout",
                    "text": "----                 -------------         ------ ----\r\n",
                    "output_type": "stream"
                },
                {
                    "name": "stdout",
                    "text": "-a---           9/16/2020 10:56 AM         526714 BPCheck_output_SURFACE215SQL_SQL2016_20200916.ipy\r\n",
                    "output_type": "stream"
                },
                {
                    "name": "stdout",
                    "text": "                                                  nb\r\n",
                    "output_type": "stream"
                },
                {
                    "name": "stdout",
                    "text": "-a---           9/16/2020 10:56 AM         407466 BPCheck_output_SURFACE215SQL_SQL2016HAPPY_2020091\r\n",
                    "output_type": "stream"
                },
                {
                    "name": "stdout",
                    "text": "                                                  6.ipynb\r\n",
                    "output_type": "stream"
                },
                {
                    "name": "stdout",
                    "text": "-a---           9/16/2020 10:56 AM         655852 BPCheck_output_SURFACE215SQL_SQL2017_20200916.ipy\r\n",
                    "output_type": "stream"
                },
                {
                    "name": "stdout",
                    "text": "                                                  nb\r\n",
                    "output_type": "stream"
                },
                {
                    "name": "stdout",
                    "text": "-a---           9/16/2020 10:56 AM         510847 BPCheck_output_SURFACE215SQL_SQL2019_20200916.ipy\r\n",
                    "output_type": "stream"
                },
                {
                    "name": "stdout",
                    "text": "                                                  nb\r\n",
                    "output_type": "stream"
                },
                {
                    "name": "stdout",
                    "text": "\r\n",
                    "output_type": "stream"
                }
            ],
            "execution_count": 14
        },
        {
            "cell_type": "markdown",
            "source": [
                "## Same progression as before, but with Docker & Credentials"
            ],
            "metadata": {
                "azdata_cell_guid": "c5461949-55d1-4eab-9607-cbad5c8edc4b"
            }
        },
        {
            "cell_type": "code",
            "source": [
                "# Use this one for Docker containers.\r\n",
                "$SQLDockCred = Get-Credential sa\r\n",
                "\r\n",
                "dir 'SQLSERVER:\\SQLRegistration\\Database Engine Server Group\\Dockers' |\r\n",
                "WHERE { $_.Mode -ne 'd'} |\r\n",
                "foreach {\r\n",
                "    Get-SqlInstance -ServerInstance $_.Name -Credential $SQLDockCred \r\n",
                "        }\r\n",
                ""
            ],
            "metadata": {
                "azdata_cell_guid": "71f05cca-55b5-4f84-bc72-cdb74e76ffaf",
                "tags": []
            },
            "outputs": [
                {
                    "output_type": "stream",
                    "name": "stdout",
                    "text": "\nName                 Status           Size     Space  Recovery Compat. Owner                     Collation             \n                                            Available  Model     Level                                                 \n----                 ------           ---- ---------- -------- ------- -----                     ---------             \nAdventureWorks2016   Normal      209.63 MB    1.13 MB Simple       130 sa                        SQL_Latin1_General_CP1\n                                                                                                 _CI_AS                \nAdventureWorksDW2012 Normal      167.00 MB   32.47 MB Simple       110 sa                        SQL_Latin1_General_CP1\n                                                                                                 _CI_AS                \nAdventureWorksDW2014 Normal      188.00 MB   78.10 MB Simple       120 sa                        SQL_Latin1_General_CP1\n                                                                                                 _CI_AS                \nAdventureWorksDW2016 Normal      172.00 MB   74.76 MB Simple       130 sa                        SQL_Latin1_General_CP1\n                                                                                                 _CI_AS                \nAdventureWorksDW2017 Normal      208.00 MB   40.57 MB Simple       140 sa                        SQL_Latin1_General_CP1\n                                                                                                 _CI_AS                \nBlankDB              Normal       16.00 MB    3.74 MB Full         140 sa                        SQL_Latin1_General_CP1\n                                                                                                 _CI_AS                \nmaster               Normal        6.00 MB  552.00 KB Simple       140 sa                        SQL_Latin1_General_CP1\n                                                                                                 _CI_AS                \nmodel                Normal       16.00 MB    5.70 MB Full         140 sa                        SQL_Latin1_General_CP1\n                                                                                                 _CI_AS                \nmsdb                 Normal       16.00 MB  600.00 KB Simple       140 sa                        SQL_Latin1_General_CP1\n                                                                                                 _CI_AS                \nReportServer         Normal      144.00 MB   60.37 MB Full         140 sa                        Latin1_General_100_CI_\n                                                                                                 AS_KS_WS              \nReportServerTempDB   Normal       16.00 MB    3.89 MB Simple       140 sa                        Latin1_General_100_CI_\n                                                                                                 AS_KS_WS              \ntempdb               Normal       16.00 MB    5.16 MB Simple       140 sa                        SQL_Latin1_General_CP1\n                                                                                                 _CI_AS                \nmaster               Normal        6.44 MB  952.00 KB Simple       150 sa                        SQL_Latin1_General_CP1\n                                                                                                 _CI_AS                \nmodel                Normal       16.00 MB    5.70 MB Full         150 sa                        SQL_Latin1_General_CP1\n                                                                                                 _CI_AS                \nmsdb                 Normal       15.50 MB    1.41 MB Full         150 sa                        SQL_Latin1_General_CP1\n                                                                                                 _CI_AS                \ntempdb               Normal       16.00 MB    5.43 MB Simple       150 sa                        SQL_Latin1_General_CP1\n                                                                                                 _CI_AS                \n\n\n& { Import-Module SqlServer;\n>> \n>> $SQLDockCred = Get-Credential sa\n>> \n>> dir 'SQLSERVER:\\SQLRegistration\\Database Engine Server Group' |\n>> WHERE { $_.Mode -ne 'd'} |            \n>> foreach {\n>>     Get-SqlInstance -ServerInstance $_.Name -Credential $SQLDockCred |\n>>     foreach {\n>>             Get-SqlDatabase -ServerInstance $_.Name -Credential $SQLDockCred\n>>             }\n>>         }\n>>  }\n>> \n"
                }
            ],
            "execution_count": 8
        },
        {
            "cell_type": "code",
            "source": [
                "$SQLDockCred = Get-Credential sa\n",
                "\n",
                "dir 'SQLSERVER:\\SQLRegistration\\Database Engine Server Group\\Dockers' |\n",
                "WHERE { $_.Mode -ne 'd'} |\n",
                "foreach {\n",
                "    Get-SqlInstance -ServerInstance $_.Name -Credential $SQLDockCred |\n",
                "    foreach {\n",
                "            Get-SqlDatabase -ServerInstance $_.Name -Credential $SQLDockCred\n",
                "            }\n",
                "        }\n",
                ""
            ],
            "metadata": {
                "azdata_cell_guid": "405167f2-cd31-45c7-815f-2470f4a202e5"
            },
            "outputs": [
                {
                    "output_type": "stream",
                    "name": "stdout",
                    "text": "& { Import-Module SqlServer;\n>> \n>> $SQLDockCred = Get-Credential sa\n>> \n>> dir 'SQLSERVER:\\SQLRegistration\\Database Engine Server Group' |\n>> WHERE { $_.Mode -ne 'd'} |            \n>> foreach {\n>>     Get-SqlInstance -ServerInstance $_.Name -Credential $SQLDockCred |\n>>     foreach {\n>>             Get-SqlDatabase -ServerInstance $_.Name -Credential $SQLDockCred\n>>             }\n>>         }\n>>  }\n>> \n\nName                 Status           Size     Space  Recovery Compat. Owner                     Collation             \n                                            Available  Model     Level                                                 \n----                 ------           ---- ---------- -------- ------- -----                     ---------             \nAdventureWorks2016   Normal      209.63 MB    1.13 MB Simple       130 sa                        SQL_Latin1_General_CP1\n                                                                                                 _CI_AS                \nAdventureWorksDW2012 Normal      167.00 MB   32.47 MB Simple       110 sa                        SQL_Latin1_General_CP1\n                                                                                                 _CI_AS                \nAdventureWorksDW2014 Normal      188.00 MB   78.10 MB Simple       120 sa                        SQL_Latin1_General_CP1\n                                                                                                 _CI_AS                \nAdventureWorksDW2016 Normal      172.00 MB   74.76 MB Simple       130 sa                        SQL_Latin1_General_CP1\n                                                                                                 _CI_AS                \nAdventureWorksDW2017 Normal      208.00 MB   40.57 MB Simple       140 sa                        SQL_Latin1_General_CP1\n                                                                                                 _CI_AS                \nBlankDB              Normal       16.00 MB    3.74 MB Full         140 sa                        SQL_Latin1_General_CP1\n                                                                                                 _CI_AS                \nmaster               Normal        6.00 MB  552.00 KB Simple       140 sa                        SQL_Latin1_General_CP1\n                                                                                                 _CI_AS                \nmodel                Normal       16.00 MB    5.70 MB Full         140 sa                        SQL_Latin1_General_CP1\n                                                                                                 _CI_AS                \nmsdb                 Normal       16.00 MB  600.00 KB Simple       140 sa                        SQL_Latin1_General_CP1\n                                                                                                 _CI_AS                \nReportServer         Normal      144.00 MB   60.37 MB Full         140 sa                        Latin1_General_100_CI_\n                                                                                                 AS_KS_WS              \nReportServerTempDB   Normal       16.00 MB    3.89 MB Simple       140 sa                        Latin1_General_100_CI_\n                                                                                                 AS_KS_WS              \ntempdb               Normal       16.00 MB    5.16 MB Simple       140 sa                        SQL_Latin1_General_CP1\n                                                                                                 _CI_AS                \nmaster               Normal        6.44 MB  952.00 KB Simple       150 sa                        SQL_Latin1_General_CP1\n                                                                                                 _CI_AS                \nmodel                Normal       16.00 MB    5.70 MB Full         150 sa                        SQL_Latin1_General_CP1\n                                                                                                 _CI_AS                \nmsdb                 Normal       15.50 MB    1.41 MB Full         150 sa                        SQL_Latin1_General_CP1\n                                                                                                 _CI_AS                \ntempdb               Normal       16.00 MB    5.43 MB Simple       150 sa                        SQL_Latin1_General_CP1\n                                                                                                 _CI_AS                \n\n\n& { Import-Module SqlServer;\n>> \n>> $SQLDockCred = Get-Credential sa\n>> \n>> dir 'SQLSERVER:\\SQLRegistration\\Database Engine Server Group' |\n>> WHERE { $_.Mode -ne 'd'} |            \n>> foreach {\n>>     Get-SqlInstance -ServerInstance $_.Name -Credential $SQLDockCred |\n>>     foreach {\n>>             Get-SqlDatabase -ServerInstance $_.Name -Credential $SQLDockCred\n>>             }\n>>         }\n>>  }\n>> \n"
                }
            ],
            "execution_count": 7
        },
        {
            "cell_type": "code",
            "source": [
                "Import-Module SqlServer;\r\n",
                "\r\n",
                "$SQLDockCred = Get-Credential sa\r\n",
                "\r\n",
                "dir 'SQLSERVER:\\SQLRegistration\\Database Engine Server Group\\Dockers' |\r\n",
                "WHERE { $_.Mode -ne 'd'} |\r\n",
                "foreach {\r\n",
                "    Get-SqlInstance -ServerInstance $_.Name -Credential $SQLDockCred |\r\n",
                "    foreach {\r\n",
                "            Invoke-SqlNotebook -ServerInstance $_.Name -Database master -Credential $SQLDockCred -InputFile \"$home\\Downloads\\BPCheck.ipynb\" `\r\n",
                "            -OutputFile \"c:\\temp\\BPChecks\\BPCheck_output_$($_.NetName)_$($_.InstanceName)_$(Get-Date -Format yyyyMMdd).ipynb\"\r\n",
                "            }\r\n",
                "        }"
            ],
            "metadata": {
                "azdata_cell_guid": "9fcec806-3bb5-48f7-8040-2959b5fb15d6"
            },
            "outputs": [],
            "execution_count": 4
        }
    ]
}