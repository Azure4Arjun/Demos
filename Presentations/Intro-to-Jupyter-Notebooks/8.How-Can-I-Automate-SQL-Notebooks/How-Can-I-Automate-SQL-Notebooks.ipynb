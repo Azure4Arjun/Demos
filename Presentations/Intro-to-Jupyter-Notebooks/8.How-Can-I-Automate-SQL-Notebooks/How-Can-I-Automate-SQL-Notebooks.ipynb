{
    "metadata": {
        "kernelspec": {
            "name": "powershell",
            "display_name": "PowerShell"
        },
        "language_info": {
            "name": "python",
            "version": ""
        }
    },
    "nbformat_minor": 2,
    "nbformat": 4,
    "cells": [
        {
            "cell_type": "markdown",
            "source": [
                "Your first option for automating SQL Notebooks is the Invoke-SqlNotebook cmdlet."
            ],
            "metadata": {
                "azdata_cell_guid": "2b8201c2-17b1-41e7-9ea5-4b50bdb93edf"
            }
        },
        {
            "cell_type": "code",
            "source": [
                "Invoke-SqlNotebook"
            ],
            "metadata": {
                "azdata_cell_guid": "77572a67-74a4-4152-910d-00c6936fb90b"
            },
            "outputs": [],
            "execution_count": null
        },
        {
            "cell_type": "markdown",
            "source": [
                "# I heard you like to run Notebooks\n",
                "\n",
                "## So I created a PowerShell Notebook to execute a T-SQL Notebook, using the new Invoke-SqlNotebook PowerShell cmdlet\n",
                "\n",
                "This is a simple demonstration of how your can use a PowerShell Notebook to execute a T-SQL Notebook across all your Registered SQL Servers, using the new Invoke-SqlNotebook cmdlet. The results of the execution against each SQL Server Instance will be saved locally to it's own Output-Notebook, with a unique name."
            ],
            "metadata": {
                "azdata_cell_guid": "b3aacb26-321a-44e2-89e3-b589ec5e0b02"
            }
        },
        {
            "cell_type": "code",
            "source": [
                "Import-Module SqlServer;\r\n",
                "\r\n",
                "$SQLDockCred = Get-Credential sa\r\n",
                "\r\n",
                "dir 'SQLSERVER:\\SQLRegistration\\Database Engine Server Group' |\r\n",
                "WHERE { $_.Mode -ne 'd'} |            \r\n",
                "foreach {\r\n",
                "    Get-SqlInstance -ServerInstance $_.Name -Credential $SQLDockCred |\r\n",
                "    foreach {\r\n",
                "            Invoke-SqlNotebook -ServerInstance $_.Name -Database master -Credential $SQLDockCred -InputFile \"$home\\Documents\\SQL Server Management Studio\\BPCheck.ipynb\" `\r\n",
                "            -OutputFile \"BPCheck_output_$($_.NetName)_$(Get-Date -Date $Date -Format yyyyMMdd).ipynb\"\r\n",
                "            }\r\n",
                "        }\r\n",
                ""
            ],
            "metadata": {
                "azdata_cell_guid": "9fcec806-3bb5-48f7-8040-2959b5fb15d6"
            },
            "outputs": [],
            "execution_count": 4
        },
        {
            "cell_type": "code",
            "source": [
                "$SQLDockCred = Get-Credential sa\r\n",
                "\r\n",
                "dir 'SQLSERVER:\\SQLRegistration\\Database Engine Server Group' |\r\n",
                "WHERE { $_.Mode -ne 'd'} |            \r\n",
                "foreach {\r\n",
                "    Get-SqlInstance -ServerInstance $_.Name -Credential $SQLDockCred \r\n",
                "        }\r\n",
                ""
            ],
            "metadata": {
                "azdata_cell_guid": "71f05cca-55b5-4f84-bc72-cdb74e76ffaf"
            },
            "outputs": [
                {
                    "output_type": "stream",
                    "name": "stdout",
                    "text": "\nName                 Status           Size     Space  Recovery Compat. Owner                     Collation             \n                                            Available  Model     Level                                                 \n----                 ------           ---- ---------- -------- ------- -----                     ---------             \nAdventureWorks2016   Normal      209.63 MB    1.13 MB Simple       130 sa                        SQL_Latin1_General_CP1\n                                                                                                 _CI_AS                \nAdventureWorksDW2012 Normal      167.00 MB   32.47 MB Simple       110 sa                        SQL_Latin1_General_CP1\n                                                                                                 _CI_AS                \nAdventureWorksDW2014 Normal      188.00 MB   78.10 MB Simple       120 sa                        SQL_Latin1_General_CP1\n                                                                                                 _CI_AS                \nAdventureWorksDW2016 Normal      172.00 MB   74.76 MB Simple       130 sa                        SQL_Latin1_General_CP1\n                                                                                                 _CI_AS                \nAdventureWorksDW2017 Normal      208.00 MB   40.57 MB Simple       140 sa                        SQL_Latin1_General_CP1\n                                                                                                 _CI_AS                \nBlankDB              Normal       16.00 MB    3.74 MB Full         140 sa                        SQL_Latin1_General_CP1\n                                                                                                 _CI_AS                \nmaster               Normal        6.00 MB  552.00 KB Simple       140 sa                        SQL_Latin1_General_CP1\n                                                                                                 _CI_AS                \nmodel                Normal       16.00 MB    5.70 MB Full         140 sa                        SQL_Latin1_General_CP1\n                                                                                                 _CI_AS                \nmsdb                 Normal       16.00 MB  600.00 KB Simple       140 sa                        SQL_Latin1_General_CP1\n                                                                                                 _CI_AS                \nReportServer         Normal      144.00 MB   60.37 MB Full         140 sa                        Latin1_General_100_CI_\n                                                                                                 AS_KS_WS              \nReportServerTempDB   Normal       16.00 MB    3.89 MB Simple       140 sa                        Latin1_General_100_CI_\n                                                                                                 AS_KS_WS              \ntempdb               Normal       16.00 MB    5.16 MB Simple       140 sa                        SQL_Latin1_General_CP1\n                                                                                                 _CI_AS                \nmaster               Normal        6.44 MB  952.00 KB Simple       150 sa                        SQL_Latin1_General_CP1\n                                                                                                 _CI_AS                \nmodel                Normal       16.00 MB    5.70 MB Full         150 sa                        SQL_Latin1_General_CP1\n                                                                                                 _CI_AS                \nmsdb                 Normal       15.50 MB    1.41 MB Full         150 sa                        SQL_Latin1_General_CP1\n                                                                                                 _CI_AS                \ntempdb               Normal       16.00 MB    5.43 MB Simple       150 sa                        SQL_Latin1_General_CP1\n                                                                                                 _CI_AS                \n\n\n& { Import-Module SqlServer;\n>> \n>> $SQLDockCred = Get-Credential sa\n>> \n>> dir 'SQLSERVER:\\SQLRegistration\\Database Engine Server Group' |\n>> WHERE { $_.Mode -ne 'd'} |            \n>> foreach {\n>>     Get-SqlInstance -ServerInstance $_.Name -Credential $SQLDockCred |\n>>     foreach {\n>>             Get-SqlDatabase -ServerInstance $_.Name -Credential $SQLDockCred\n>>             }\n>>         }\n>>  }\n>> \n"
                }
            ],
            "execution_count": 8
        },
        {
            "cell_type": "code",
            "source": [
                "$SQLDockCred = Get-Credential sa\n",
                "\n",
                "dir 'SQLSERVER:QLRegistrationatabase Engine Server Group' |\n",
                "WHERE { $_.Mode -ne 'd'} |            \n",
                "foreach {\n",
                "    Get-SqlInstance -ServerInstance $_.Name -Credential $SQLDockCred |\n",
                "    foreach {\n",
                "            Get-SqlDatabase -ServerInstance $_.Name -Credential $SQLDockCred\n",
                "            }\n",
                "        }\n",
                ""
            ],
            "metadata": {
                "azdata_cell_guid": "405167f2-cd31-45c7-815f-2470f4a202e5"
            },
            "outputs": [
                {
                    "output_type": "stream",
                    "name": "stdout",
                    "text": "& { Import-Module SqlServer;\n>> \n>> $SQLDockCred = Get-Credential sa\n>> \n>> dir 'SQLSERVER:\\SQLRegistration\\Database Engine Server Group' |\n>> WHERE { $_.Mode -ne 'd'} |            \n>> foreach {\n>>     Get-SqlInstance -ServerInstance $_.Name -Credential $SQLDockCred |\n>>     foreach {\n>>             Get-SqlDatabase -ServerInstance $_.Name -Credential $SQLDockCred\n>>             }\n>>         }\n>>  }\n>> \n\nName                 Status           Size     Space  Recovery Compat. Owner                     Collation             \n                                            Available  Model     Level                                                 \n----                 ------           ---- ---------- -------- ------- -----                     ---------             \nAdventureWorks2016   Normal      209.63 MB    1.13 MB Simple       130 sa                        SQL_Latin1_General_CP1\n                                                                                                 _CI_AS                \nAdventureWorksDW2012 Normal      167.00 MB   32.47 MB Simple       110 sa                        SQL_Latin1_General_CP1\n                                                                                                 _CI_AS                \nAdventureWorksDW2014 Normal      188.00 MB   78.10 MB Simple       120 sa                        SQL_Latin1_General_CP1\n                                                                                                 _CI_AS                \nAdventureWorksDW2016 Normal      172.00 MB   74.76 MB Simple       130 sa                        SQL_Latin1_General_CP1\n                                                                                                 _CI_AS                \nAdventureWorksDW2017 Normal      208.00 MB   40.57 MB Simple       140 sa                        SQL_Latin1_General_CP1\n                                                                                                 _CI_AS                \nBlankDB              Normal       16.00 MB    3.74 MB Full         140 sa                        SQL_Latin1_General_CP1\n                                                                                                 _CI_AS                \nmaster               Normal        6.00 MB  552.00 KB Simple       140 sa                        SQL_Latin1_General_CP1\n                                                                                                 _CI_AS                \nmodel                Normal       16.00 MB    5.70 MB Full         140 sa                        SQL_Latin1_General_CP1\n                                                                                                 _CI_AS                \nmsdb                 Normal       16.00 MB  600.00 KB Simple       140 sa                        SQL_Latin1_General_CP1\n                                                                                                 _CI_AS                \nReportServer         Normal      144.00 MB   60.37 MB Full         140 sa                        Latin1_General_100_CI_\n                                                                                                 AS_KS_WS              \nReportServerTempDB   Normal       16.00 MB    3.89 MB Simple       140 sa                        Latin1_General_100_CI_\n                                                                                                 AS_KS_WS              \ntempdb               Normal       16.00 MB    5.16 MB Simple       140 sa                        SQL_Latin1_General_CP1\n                                                                                                 _CI_AS                \nmaster               Normal        6.44 MB  952.00 KB Simple       150 sa                        SQL_Latin1_General_CP1\n                                                                                                 _CI_AS                \nmodel                Normal       16.00 MB    5.70 MB Full         150 sa                        SQL_Latin1_General_CP1\n                                                                                                 _CI_AS                \nmsdb                 Normal       15.50 MB    1.41 MB Full         150 sa                        SQL_Latin1_General_CP1\n                                                                                                 _CI_AS                \ntempdb               Normal       16.00 MB    5.43 MB Simple       150 sa                        SQL_Latin1_General_CP1\n                                                                                                 _CI_AS                \n\n\n& { Import-Module SqlServer;\n>> \n>> $SQLDockCred = Get-Credential sa\n>> \n>> dir 'SQLSERVER:\\SQLRegistration\\Database Engine Server Group' |\n>> WHERE { $_.Mode -ne 'd'} |            \n>> foreach {\n>>     Get-SqlInstance -ServerInstance $_.Name -Credential $SQLDockCred |\n>>     foreach {\n>>             Get-SqlDatabase -ServerInstance $_.Name -Credential $SQLDockCred\n>>             }\n>>         }\n>>  }\n>> \n"
                }
            ],
            "execution_count": 7
        }
    ]
}