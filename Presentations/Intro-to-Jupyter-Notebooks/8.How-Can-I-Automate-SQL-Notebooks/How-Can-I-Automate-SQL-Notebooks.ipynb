{
    "metadata": {
        "kernelspec": {
            "name": ".net-powershell",
            "display_name": ".NET (PowerShell)"
        },
        "language_info": {
            "name": "PowerShell",
            "version": "7.0",
            "mimetype": "text/x-powershell",
            "file_extension": ".ps1",
            "pygments_lexer": "powershell"
        }
    },
    "nbformat_minor": 2,
    "nbformat": 4,
    "cells": [
        {
            "cell_type": "code",
            "source": [
                "Invoke-SqlNotebook"
            ],
            "metadata": {
                "azdata_cell_guid": "7fe83a9f-b4bd-4900-bc2c-f81095e293c7"
            },
            "outputs": [],
            "execution_count": null
        }
    ]
}