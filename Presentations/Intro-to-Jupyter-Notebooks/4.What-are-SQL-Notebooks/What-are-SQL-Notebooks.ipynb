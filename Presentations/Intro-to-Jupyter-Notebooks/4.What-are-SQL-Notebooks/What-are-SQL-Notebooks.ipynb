{
    "metadata": {
        "kernelspec": {
            "name": "SQL",
            "display_name": "SQL",
            "language": "sql"
        },
        "language_info": {
            "name": "sql",
            "version": ""
        }
    },
    "nbformat_minor": 2,
    "nbformat": 4,
    "cells": [
        {
            "cell_type": "code",
            "source": [
                "SELECT *\r\n",
                "  FROM sys.databases"
            ],
            "metadata": {
                "azdata_cell_guid": "20214066-1484-42ac-ae41-81ddecbdd00c"
            },
            "outputs": [],
            "execution_count": null
        }
    ]
}