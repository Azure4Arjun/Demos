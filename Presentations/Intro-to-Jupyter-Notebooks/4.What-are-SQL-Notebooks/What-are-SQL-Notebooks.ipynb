{
    "metadata": {
        "kernelspec": {
            "name": "SQL",
            "display_name": "SQL",
            "language": "sql"
        },
        "language_info": {
            "name": "sql",
            "version": ""
        }
    },
    "nbformat_minor": 2,
    "nbformat": 4,
    "cells": [
        {
            "cell_type": "markdown",
            "source": [
                "# SQL Notebooks are just a Jupyter Notebook running the SQL kernel\n",
                "\n",
                "The SQL Tools team has already produced several videos showing how to use SQL Notebooks, so I'll link to those videos and dive straight into using them.\n",
                "\n",
                "Unlike PowerShell Notebooks which default to running locally wherever you execute them, SQL Notebooks need to be connected to a SQL Server before you can start running them."
            ],
            "metadata": {
                "azdata_cell_guid": "34a6c776-9092-45c4-9b3e-97b45cdca627"
            }
        },
        {
            "cell_type": "code",
            "source": [
                "SELECT *\r\n",
                "  FROM sys.databases"
            ],
            "metadata": {
                "azdata_cell_guid": "20214066-1484-42ac-ae41-81ddecbdd00c"
            },
            "outputs": [],
            "execution_count": null
        },
        {
            "cell_type": "markdown",
            "source": [
                "Another important difference to notice with SQL Notebooks is that they have a rich results-grid experience."
            ],
            "metadata": {
                "azdata_cell_guid": "76728a65-62b9-4f1d-8ab6-c497a40bf151"
            }
        },
        {
            "cell_type": "code",
            "source": [
                "SELECT SYSDATETIME()"
            ],
            "metadata": {
                "azdata_cell_guid": "8dfe9c7a-5b5c-4ceb-a236-976a0631b59e"
            },
            "outputs": [],
            "execution_count": null
        },
        {
            "cell_type": "markdown",
            "source": [
                "Hopefully, someone can write a PowerShell function so that we can pipe PowerShell results to this rich results-grid experience.\n",
                "\n",
                "😉"
            ],
            "metadata": {
                "azdata_cell_guid": "bdc561ca-1b8c-43ca-b02c-1a3684a6caec"
            }
        }
    ]
}