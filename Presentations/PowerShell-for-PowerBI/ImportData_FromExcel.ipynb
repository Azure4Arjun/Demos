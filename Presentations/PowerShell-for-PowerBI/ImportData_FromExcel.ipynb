{
    "metadata": {
        "kernelspec": {
            "name": "powershell",
            "display_name": "PowerShell"
        },
        "language_info": {
            "name": "powershell",
            "codemirror_mode": "shell",
            "mimetype": "text/x-sh",
            "file_extension": ".ps1"
        }
    },
    "nbformat_minor": 2,
    "nbformat": 4,
    "cells": [
        {
            "cell_type": "markdown",
            "source": [
                "# Using the ImportExcel module to move data\r\n",
                "The ImportExcel module is maintained by PowerShell MVP Doug Finke @dfinke on twitter.\r\n",
                "\r\n",
                "You will need to install the module from the PowerShell Gallery, if you haven't done so already."
            ],
            "metadata": {
                "azdata_cell_guid": "5aa4391d-6f25-4169-9417-045034dae8b5"
            }
        },
        {
            "cell_type": "code",
            "source": [
                "Install-Module ImportExcel"
            ],
            "metadata": {
                "azdata_cell_guid": "113a36b9-4caa-45f4-b1ff-b85554f65639"
            },
            "outputs": [],
            "execution_count": 0
        },
        {
            "cell_type": "markdown",
            "source": [
                "Before we get started importing data from Excel into our SQL Server, we can use the `Get-ExcelSheetInfo` below to inspeact the multiple worksheets inside an Excel file."
            ],
            "metadata": {
                "azdata_cell_guid": "6923c817-2c47-43a9-ad6a-65056b6a1b5b"
            }
        },
        {
            "cell_type": "code",
            "source": [
                "Get-ExcelSheetInfo -Path C:\\temp\\AW\\AdventureWorksDW2017_Dims.xlsx"
            ],
            "metadata": {
                "azdata_cell_guid": "c704e584-d2ec-4e5c-abea-1ae73db339ab"
            },
            "outputs": [
                {
                    "output_type": "stream",
                    "name": "stdout",
                    "text": "\nName                  Index  Hidden Path                                     \n----                  -----  ------ ----                                     \nDimScenario               1 Visible C:\\temp\\AW\\AdventureWorksDW2017_Dims.xlsx\nDimAccount                2 Visible C:\\temp\\AW\\AdventureWorksDW2017_Dims.xlsx\nDimCurrency               3 Visible C:\\temp\\AW\\AdventureWorksDW2017_Dims.xlsx\nDimCustomer               4 Visible C:\\temp\\AW\\AdventureWorksDW2017_Dims.xlsx\nDimDate                   5 Visible C:\\temp\\AW\\AdventureWorksDW2017_Dims.xlsx\nDimDepartmentGroup        6 Visible C:\\temp\\AW\\AdventureWorksDW2017_Dims.xlsx\nDimEmployee               7 Visible C:\\temp\\AW\\AdventureWorksDW2017_Dims.xlsx\nDimGeography              8 Visible C:\\temp\\AW\\AdventureWorksDW2017_Dims.xlsx\nDimOrganization           9 Visible C:\\temp\\AW\\AdventureWorksDW2017_Dims.xlsx\nDimProduct               10 Visible C:\\temp\\AW\\AdventureWorksDW2017_Dims.xlsx\nDimProductCategory       11 Visible C:\\temp\\AW\\AdventureWorksDW2017_Dims.xlsx\nDimProductSubcategory    12 Visible C:\\temp\\AW\\AdventureWorksDW2017_Dims.xlsx\nDimPromotion             13 Visible C:\\temp\\AW\\AdventureWorksDW2017_Dims.xlsx\nDimReseller              14 Visible C:\\temp\\AW\\AdventureWorksDW2017_Dims.xlsx\nDimSalesReason           15 Visible C:\\temp\\AW\\AdventureWorksDW2017_Dims.xlsx\nDimSalesTerritory        16 Visible C:\\temp\\AW\\AdventureWorksDW2017_Dims.xlsx\n\n\n"
                }
            ],
            "execution_count": 2
        },
        {
            "cell_type": "markdown",
            "source": [
                "Use the technique below to import multiple worksheets from an Excel file, and create a new table in SQL Server for each Worksheet."
            ],
            "metadata": {
                "azdata_cell_guid": "faaa225e-d284-44b7-a411-b1cd3a18c0ef"
            }
        },
        {
            "cell_type": "code",
            "source": [
                "foreach ($Worksheet in Get-ExcelSheetInfo -Path C:\\temp\\AW\\AdventureWorksDW2017_Dims.xlsx)\r\n",
                "{\r\n",
                "\"$($Worksheet.Path) and $($Worksheet.Name)\"\r\n",
                "}"
            ],
            "metadata": {
                "azdata_cell_guid": "c4ea4da6-1074-4165-a3f3-3d209f372a56"
            },
            "outputs": [
                {
                    "output_type": "stream",
                    "name": "stdout",
                    "text": "C:\\temp\\AW\\AdventureWorksDW2017_Dims.xlsx and DimScenario\nC:\\temp\\AW\\AdventureWorksDW2017_Dims.xlsx and DimAccount\nC:\\temp\\AW\\AdventureWorksDW2017_Dims.xlsx and DimCurrency\nC:\\temp\\AW\\AdventureWorksDW2017_Dims.xlsx and DimCustomer\nC:\\temp\\AW\\AdventureWorksDW2017_Dims.xlsx and DimDate\nC:\\temp\\AW\\AdventureWorksDW2017_Dims.xlsx and DimDepartmentGroup\nC:\\temp\\AW\\AdventureWorksDW2017_Dims.xlsx and DimEmployee\nC:\\temp\\AW\\AdventureWorksDW2017_Dims.xlsx and DimGeography\nC:\\temp\\AW\\AdventureWorksDW2017_Dims.xlsx and DimOrganization\nC:\\temp\\AW\\AdventureWorksDW2017_Dims.xlsx and DimProduct\nC:\\temp\\AW\\AdventureWorksDW2017_Dims.xlsx and DimProductCategory\nC:\\temp\\AW\\AdventureWorksDW2017_Dims.xlsx and DimProductSubcategory\nC:\\temp\\AW\\AdventureWorksDW2017_Dims.xlsx and DimPromotion\nC:\\temp\\AW\\AdventureWorksDW2017_Dims.xlsx and DimReseller\nC:\\temp\\AW\\AdventureWorksDW2017_Dims.xlsx and DimSalesReason\nC:\\temp\\AW\\AdventureWorksDW2017_Dims.xlsx and DimSalesTerritory\n"
                }
            ],
            "execution_count": 7
        },
        {
            "cell_type": "code",
            "source": [
                "$Worksheet"
            ],
            "metadata": {
                "azdata_cell_guid": "3fcd7f54-cc60-4df0-a8d8-eb4bfd6707c1"
            },
            "outputs": [
                {
                    "output_type": "stream",
                    "name": "stdout",
                    "text": "\nName              Index  Hidden Path                                     \n----              -----  ------ ----                                     \nDimSalesTerritory    16 Visible C:\\temp\\AW\\AdventureWorksDW2017_Dims.xlsx\n\n\n"
                }
            ],
            "execution_count": 8
        },
        {
            "cell_type": "code",
            "source": [
                ",(Import-Excel -Path $Worksheet.Path -WorksheetName $Worksheet.Name) |\r\n",
                "Write-SqlTableData -ServerInstance localhost\\SQL2017 -Database BlankDB -SchemaName Excel -TableName $_.Name -Force;"
            ],
            "metadata": {
                "azdata_cell_guid": "0fcd0cb2-5e91-47ca-8134-d1188d48a5e0"
            },
            "outputs": [
                {
                    "output_type": "stream",
                    "name": "stdout",
                    "text": "Import-Excel : A parameter cannot be found that matches parameter name 'WorksheetNamev'.\nAt line:1 char:42\n+ . { ,(Import-Excel -Path $Worksheet.Path -WorksheetNamev $Worksheet.N ...\n+                                          ~~~~~~~~~~~~~~~\n    + CategoryInfo          : InvalidArgument: (:) [Import-Excel], ParameterBindingException\n    + FullyQualifiedErrorId : NamedParameterNotFound,Import-Excel\n \n"
                }
            ],
            "execution_count": 10
        },
        {
            "cell_type": "code",
            "source": [
                "foreach ($Worksheet in Get-ExcelSheetInfo -Path C:\\temp\\AW\\AdventureWorksDW2017_Dims.xlsx)\r\n",
                "{\r\n",
                ",(Import-Excel -Path $Worksheet.Path -WorksheetName $Worksheet.Name) |\r\n",
                "Write-SqlTableData -ServerInstance localhost\\SQL2017 -Database BlankDB -SchemaName Excel -TableName $Worksheet.Name -Force;\r\n",
                "}"
            ],
            "metadata": {
                "azdata_cell_guid": "e138384c-b383-419a-8e37-8f6b1a97eb39",
                "tags": []
            },
            "outputs": [
                {
                    "name": "stdout",
                    "text": "Write-SqlTableData : Input string was not in a correct format.Couldn't store <> in ParentEmployeeKey Column.  Expected \ntype is Double.\nAt line:4 char:1\n+ Write-SqlTableData -ServerInstance localhost\\SQL2017 -Database BlankD ...\n+ ~~~~~~~~~~~~~~~~~~~~~~~~~~~~~~~~~~~~~~~~~~~~~~~~~~~~~~~~~~~~~~~~~~~~~\n    + CategoryInfo          : WriteError: ([Excel].[DimEmployee]:Table) [Write-SqlTableData], ArgumentException\n    + FullyQualifiedErrorId : WriteToTableFailure,Microsoft.SqlServer.Management.PowerShell.WriteSqlTableData\n \nWrite-SqlTableData : Input string was not in a correct format.Couldn't store <T2P 2G8> in PostalCode Column.  Expected \ntype is Double.\nAt line:4 char:1\n+ Write-SqlTableData -ServerInstance localhost\\SQL2017 -Database BlankD ...\n+ ~~~~~~~~~~~~~~~~~~~~~~~~~~~~~~~~~~~~~~~~~~~~~~~~~~~~~~~~~~~~~~~~~~~~~\n    + CategoryInfo          : WriteError: ([Excel].[DimGeography]:Table) [Write-SqlTableData], ArgumentException\n    + FullyQualifiedErrorId : WriteToTableFailure,Microsoft.SqlServer.Management.PowerShell.WriteSqlTableData\n \nWrite-SqlTableData : Input string was not in a correct format.Couldn't store <> in OrderMonth Column.  Expected type \nis Double.\nAt line:4 char:1\n+ Write-SqlTableData -ServerInstance localhost\\SQL2017 -Database BlankD ...\n+ ~~~~~~~~~~~~~~~~~~~~~~~~~~~~~~~~~~~~~~~~~~~~~~~~~~~~~~~~~~~~~~~~~~~~~\n    + CategoryInfo          : WriteError: ([Excel].[DimReseller]:Table) [Write-SqlTableData], ArgumentException\n    + FullyQualifiedErrorId : WriteToTableFailure,Microsoft.SqlServer.Management.PowerShell.WriteSqlTableData\n \nWrite-SqlTableData : Input string was not in a correct format.Couldn't store <> in SalesTerritoryImage Column.  \nExpected type is Double.\nAt line:4 char:1\n+ Write-SqlTableData -ServerInstance localhost\\SQL2017 -Database BlankD ...\n+ ~~~~~~~~~~~~~~~~~~~~~~~~~~~~~~~~~~~~~~~~~~~~~~~~~~~~~~~~~~~~~~~~~~~~~\n    + CategoryInfo          : WriteError: ([Excel].[DimSalesTerritory]:Table) [Write-SqlTableData], ArgumentException\n    + FullyQualifiedErrorId : WriteToTableFailure,Microsoft.SqlServer.Management.PowerShell.WriteSqlTableData\n \n",
                    "output_type": "stream"
                }
            ],
            "execution_count": 1
        },
        {
            "cell_type": "code",
            "source": [
                "dir SQLSERVER:\\SQL\\localhost\\SQL2017\\Databases\\BlankDB\\Tables"
            ],
            "metadata": {
                "azdata_cell_guid": "b158be22-39f0-4f69-a4be-f94ad57f2376"
            },
            "outputs": [
                {
                    "output_type": "stream",
                    "name": "stdout",
                    "text": "\nSchema                   Name                        Row Count   Storage      Index  Created               \n                                                               Space Used Space Used                       \n------                   ----                        --------- ---------- ---------- -------               \ndbo                      TransactionHistory             113443    7.15 MB    8.00 KB 4/4/2019 9:33 AM      \nExcel                    DimAccount                         99   16.00 KB    8.00 KB 11/5/2019 3:17 PM     \nExcel                    DimCurrency                       105    8.00 KB    8.00 KB 11/5/2019 3:17 PM     \nExcel                    DimCustomer                     18484    8.48 MB    8.00 KB 11/5/2019 3:17 PM     \nExcel                    DimDate                          3652  760.00 KB    8.00 KB 11/5/2019 3:18 PM     \nExcel                    DimDepartmentGroup                  7    8.00 KB    8.00 KB 11/5/2019 3:18 PM     \nExcel                    DimEmployee                         0    0.00 KB    0.00 KB 11/5/2019 3:18 PM     \nExcel                    DimGeography                        0    0.00 KB    0.00 KB 11/5/2019 3:18 PM     \nExcel                    DimOrganization                    14    8.00 KB    8.00 KB 11/5/2019 3:19 PM     \nExcel                    DimProduct                        606    1.09 MB    8.00 KB 11/5/2019 3:19 PM     \nExcel                    DimProductCategory                  4    8.00 KB    8.00 KB 11/5/2019 3:19 PM     \nExcel                    DimProductSubcategory              37    8.00 KB    8.00 KB 11/5/2019 3:20 PM     \nExcel                    DimPromotion                       16    8.00 KB    8.00 KB 11/5/2019 3:20 PM     \nExcel                    DimReseller                         0    0.00 KB    0.00 KB 11/5/2019 3:20 PM     \nExcel                    DimSalesReason                     10    8.00 KB    8.00 KB 11/5/2019 3:21 PM     \nExcel                    DimSalesTerritory                   0    0.00 KB    0.00 KB 11/5/2019 3:21 PM     \nExcel                    DimScenario                         3    8.00 KB    8.00 KB 11/5/2019 3:16 PM     \nnotebooks                nb_materialized                     0    0.00 KB    0.00 KB 9/10/2019 6:38 PM     \nnotebooks                nb_template                         2  704.00 KB    8.00 KB 9/10/2019 6:38 PM     \n\n\n"
                }
            ],
            "execution_count": 14
        },
        {
            "cell_type": "code",
            "source": [
                "dir C:\\temp\\AW -Filter Fact*.xlsx;\n",
                "#,(Import-Excel -Path C:\\temp\\Excel\\SysColumns_AdventureWorks2014.xlsx) |\n",
                "#Write-SqlTableData -ServerInstance localhost\\SQL2017 -Database BlankDB -SchemaName dbo -TableName MyOtherNewTable_fromExcel -Force"
            ],
            "metadata": {
                "azdata_cell_guid": "07212c8b-17bf-4906-9e6a-bdc442f9633f"
            },
            "outputs": [],
            "execution_count": 0
        }
    ]
}