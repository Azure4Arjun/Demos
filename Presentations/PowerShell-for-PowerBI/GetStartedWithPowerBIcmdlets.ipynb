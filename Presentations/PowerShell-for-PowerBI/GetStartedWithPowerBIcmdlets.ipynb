{
    "metadata": {
        "kernelspec": {
            "name": "powershell",
            "display_name": "PowerShell",
            "language": "powershell"
        },
        "language_info": {
            "name": "powershell",
            "codemirror_mode": "shell",
            "mimetype": "text/x-sh",
            "file_extension": ".ps1"
        }
    },
    "nbformat_minor": 2,
    "nbformat": 4,
    "cells": [
        {
            "cell_type": "markdown",
            "source": [
                "<img src=\"https://app.powerbi.com/13.0.10537.111/images/PowerBI96x96.png?raw=true\" width=\"10%\"> ➕\r\n",
                "<img src=\"https://github.com/Microsoft/azuredatastudio/blob/master/samples/notebookSamples/Graphics/AzureDataStudioLogo.png?raw=true\" width=\"10%\"> = ❤\r\n",
                "\r\n",
                "# Download Azure Data Studio from [aka.ms/GetAzureDataStudio](http://aka.ms/GetAzureDataStudio)\r\n",
                "\r\n",
                "# Download PowerShell 7 from [https://aka.ms/install-powershell](http://aka.ms./PSCore6)\r\n",
                "\r\n",
                "# Download the Power BI cmdlets from the [PowerShell Gallery](http://PowerShellGallery.com)\r\n",
                "Install the Power BI PowerShell module from the PowerShell Gallery using the code below:\r\n",
                "\r\n",
                "```powershell\r\n",
                "Install-Module MicrosoftPowerBIMgmt\r\n",
                "```"
            ],
            "metadata": {
                "azdata_cell_guid": "23dabd3a-3392-4967-96ae-2219d65c02f5"
            }
        },
        {
            "cell_type": "code",
            "source": [
                "Install-Module MicrosoftPowerBIMgmt"
            ],
            "metadata": {
                "azdata_cell_guid": "271a287a-a637-42b4-b53b-2117f5ab35d9"
            },
            "outputs": [],
            "execution_count": null
        },
        {
            "cell_type": "markdown",
            "source": [
                "Here are a few common Power BI tasks you can use these PowerShell Notebooks to accomplish.\r\n",
                "+ ✅ O365 Audit Logs (via PowerShell) [link](https://gist.github.com/SQLvariant/27e919da7f1843ae8aa87e5a314660f9)\r\n",
                "+ ✅ Power BI Report usage metrics (using O365 audit logs to accomplish this, above ⬆ )\r\n",
                "+ ✅ Power BI Workspace details & access info (via PowerShell) [link](https://gist.github.com/SQLvariant/be7e6a6b8aa959a85868c0ecce7f4e97)\r\n",
                "+ ✅ Export Power BI Reports from a Power BI Workspace [link]()\r\n",
                "+ ✅ Power Platform Gateways (via PowerShell) [link](https://gist.github.com/SQLvariant/32432b6dc6e72ecc88ac58360733733f)\r\n",
                "+ ❌ Power BI Premium Capacity metrics"
            ],
            "metadata": {
                "azdata_cell_guid": "0ae5fdd7-088d-4fb6-8fc6-b2ef9184544e"
            }
        },
        {
            "cell_type": "markdown",
            "source": [
                "You can follow along by downloading this Notebook from my Gist-Hub: https://gist.github.com/SQLvariant/7cb5c09eb59de43daabefcb286cd9bd3\r\n",
                "# https://gist.github.com/SQLvariant/\r\n",
                "\r\n",
                "If you end up using these cmdlets and want to make them even easier, check out the tab completion you can add using this Gist: https://gist.github.com/SQLvariant/d9e34d09364ccc859c4f51cb6e512cd6"
            ],
            "metadata": {
                "azdata_cell_guid": "3b6b3f36-37f4-4b6c-9275-0c6e4b9accec"
            }
        },
        {
            "cell_type": "code",
            "source": [
                "Update-Module MicrosoftPowerBIMgmt -WhatIf"
            ],
            "metadata": {
                "azdata_cell_guid": "e320373e-1d32-4d20-b60f-0805d0b476b8",
                "tags": [
                    "hide_input"
                ]
            },
            "outputs": [],
            "execution_count": null
        },
        {
            "cell_type": "markdown",
            "source": [
                "Use the following to command to see all the PowerShell cmdlets currently available for Power BI:"
            ],
            "metadata": {
                "azdata_cell_guid": "5de04792-7baa-46cb-8cc5-330210f419f2"
            }
        },
        {
            "cell_type": "code",
            "source": [
                "Get-Command -Module MicrosoftPowerBIMgmt*"
            ],
            "metadata": {
                "azdata_cell_guid": "f1b1db5f-3e3d-4263-8641-b4a4f655f251",
                "tags": [
                    "hide_input"
                ]
            },
            "outputs": [],
            "execution_count": null
        },
        {
            "cell_type": "code",
            "source": [
                "Login-PowerBI"
            ],
            "metadata": {
                "azdata_cell_guid": "d00a8d5f-7598-4e8f-b6ca-08083514ca42",
                "tags": [
                    "hide_input"
                ]
            },
            "outputs": [],
            "execution_count": null
        },
        {
            "cell_type": "code",
            "source": [
                "Get-PowerBIWorkspace"
            ],
            "metadata": {
                "azdata_cell_guid": "74d11eb3-ee65-46d9-810a-f4abbac09634",
                "tags": [
                    "hide_input"
                ]
            },
            "outputs": [],
            "execution_count": null
        },
        {
            "cell_type": "code",
            "source": [
                "Get-PowerBIWorkspace | Format-Table -AutoSize -Property Name"
            ],
            "metadata": {
                "azdata_cell_guid": "f0ebc233-a40b-4ff1-9b1b-54bda5ea1d14",
                "tags": [
                    "hide_input"
                ]
            },
            "outputs": [],
            "execution_count": null
        },
        {
            "cell_type": "code",
            "source": [
                "Get-PowerBIWorkspace -Name 'Field Demo RDL' | Get-PowerBIReport | ft -AutoSize -Property Name"
            ],
            "metadata": {
                "azdata_cell_guid": "63064dd4-5b0d-405d-9c91-c798dc7cd8d5",
                "tags": [
                    "hide_input"
                ]
            },
            "outputs": [],
            "execution_count": null
        },
        {
            "cell_type": "code",
            "source": [
                "Get-PowerBIWorkspace -Name 'Field Demo RDL' | Get-PowerBIDataset | ft -AutoSize"
            ],
            "metadata": {
                "azdata_cell_guid": "5a8bc77c-6ada-404e-a4c8-ea3770eedfc1",
                "tags": [
                    "hide_input"
                ]
            },
            "outputs": [],
            "execution_count": null
        },
        {
            "cell_type": "code",
            "source": [
                "Get-PowerBIWorkspace -Name 'Field Demo RDL' | Get-PowerBIDataflow | ft -AutoSize"
            ],
            "metadata": {
                "azdata_cell_guid": "88a86f62-d5da-41fc-8faf-316017043444",
                "tags": [
                    "hide_input"
                ]
            },
            "outputs": [],
            "execution_count": null
        },
        {
            "cell_type": "code",
            "source": [
                "Get-Command -Module MicrosoftPowerBIMgmt* -Noun PowerBIReport*"
            ],
            "metadata": {
                "azdata_cell_guid": "9e8f08db-df39-4591-a331-f1138b85cbae",
                "tags": [
                    "hide_input"
                ]
            },
            "outputs": [],
            "execution_count": null
        },
        {
            "cell_type": "markdown",
            "source": [
                "# Before we dive deeper into downloading/uploading reports, let's go through:\r\n",
                "+ Tenant-wide collection of Power BI assets for Data Governance\r\n",
                "+ Methods for Audit Log collection"
            ],
            "metadata": {
                "azdata_cell_guid": "3e0806f8-9b23-41f1-8a27-e24a45d9fc63"
            }
        }
    ]
}