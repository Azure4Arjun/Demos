{
    "metadata": {
        "kernelspec": {
            "name": "powershell",
            "display_name": "PowerShell",
            "language": "powershell"
        },
        "language_info": {
            "name": "powershell",
            "codemirror_mode": "shell",
            "mimetype": "text/x-sh",
            "file_extension": ".ps1"
        }
    },
    "nbformat_minor": 2,
    "nbformat": 4,
    "cells": [
        {
            "cell_type": "markdown",
            "source": [
                "<img src=\"https://app.powerbi.com/13.0.10537.111/images/PowerBI96x96.png?raw=true\" width=\"10%\">\r\n",
                "<img src=\"https://github.com/Microsoft/azuredatastudio/blob/master/samples/notebookSamples/Graphics/AzureDataStudioLogo.png?raw=true\" width=\"10%\">\r\n",
                "\r\n",
                "# Copying dataflows from one Workspace to another, with PowerShell\r\n",
                ""
            ],
            "metadata": {
                "azdata_cell_guid": "c9084c82-eb01-43b4-ad60-75cf529ea585"
            }
        },
        {
            "cell_type": "code",
            "source": [
                "Install-Module -Name MicrosoftPowerBIMgmt -Scope CurrentUser"
            ],
            "metadata": {
                "azdata_cell_guid": "f1d598f8-f9d6-4835-93e8-f96f233a8f8b"
            },
            "outputs": [],
            "execution_count": null
        },
        {
            "cell_type": "markdown",
            "source": [
                "Here's a list of all the PowerShell cmdlets available for Power BI."
            ],
            "metadata": {
                "azdata_cell_guid": "13a80227-574a-462b-94be-d15e6f190367"
            }
        },
        {
            "cell_type": "code",
            "source": [
                "Get-Command -Module MicrosoftPowerBI* -CommandType Cmdlet\r\n",
                "#| Out-GridView\r\n",
                "#-Noun *workflow*"
            ],
            "metadata": {
                "azdata_cell_guid": "0acf46de-0626-4b5a-8201-697b5f8461d6"
            },
            "outputs": [],
            "execution_count": 5
        },
        {
            "cell_type": "markdown",
            "source": [
                "As you can see, there aren't any cmdlets for copying a dataflow."
            ],
            "metadata": {
                "azdata_cell_guid": "e195a9c2-cd0d-4d00-b177-8e714f506498"
            }
        },
        {
            "cell_type": "code",
            "source": [
                "Get-Command -Module MicrosoftPowerBI* -Noun *dataflow*"
            ],
            "metadata": {
                "azdata_cell_guid": "a50ae01d-49c2-4c5f-9b13-fbea126e6fb4"
            },
            "outputs": [
                {
                    "output_type": "stream",
                    "name": "stdout",
                    "text": ""
                }
            ],
            "execution_count": 1
        },
        {
            "cell_type": "markdown",
            "source": [
                "Here are the cmdlets available for working with Workspaces"
            ],
            "metadata": {
                "azdata_cell_guid": "db1ac720-913a-4229-9cfa-af03713feeb7"
            }
        },
        {
            "cell_type": "code",
            "source": [
                "Get-Command -Module MicrosoftPowerBI* -Noun *Workspace*"
            ],
            "metadata": {
                "azdata_cell_guid": "068ea3bd-2255-4eba-94f0-c49dbdafbbb8"
            },
            "outputs": [
                {
                    "output_type": "stream",
                    "name": "stdout",
                    "text": "\nCommandType     Name                                               Version    Source                                   \n-----------     ----                                               -------    ------                                   \nCmdlet          Add-PowerBIWorkspaceUser                           1.0.487    MicrosoftPowerBIMgmt.Workspaces          \nCmdlet          Get-PowerBIWorkspace                               1.0.487    MicrosoftPowerBIMgmt.Workspaces          \nCmdlet          New-PowerBIWorkspace                               1.0.487    MicrosoftPowerBIMgmt.Workspaces          \nCmdlet          Remove-PowerBIWorkspaceUser                        1.0.487    MicrosoftPowerBIMgmt.Workspaces          \nCmdlet          Restore-PowerBIWorkspace                           1.0.487    MicrosoftPowerBIMgmt.Workspaces          \nCmdlet          Set-PowerBIWorkspace                               1.0.487    MicrosoftPowerBIMgmt.Workspaces          \n\n\n"
                }
            ],
            "execution_count": 2
        },
        {
            "cell_type": "markdown",
            "source": [
                "As you can see, there's no cmdlet for **copying** the Workspace, it's actually a separate demo script.\r\n",
                "Use the code below to download & open it in another window."
            ],
            "metadata": {
                "azdata_cell_guid": "dbf3c902-68e9-41f5-a563-7e9452282d98"
            }
        },
        {
            "cell_type": "code",
            "source": [
                "Invoke-WebRequest https://github.com/Microsoft/powerbi-powershell/blob/master/examples/CopyWorkspaceSampleScript.ps1 "
            ],
            "metadata": {
                "azdata_cell_guid": "705cee03-abd1-45f5-800e-45c63ce99e6d"
            },
            "outputs": [],
            "execution_count": 1
        }
    ]
}