{
    "metadata": {
        "kernelspec": {
            "name": "powershell",
            "display_name": "PowerShell"
        },
        "language_info": {
            "name": "powershell",
            "codemirror_mode": "shell",
            "mimetype": "text/x-sh",
            "file_extension": ".ps1"
        }
    },
    "nbformat_minor": 2,
    "nbformat": 4,
    "cells": [
        {
            "cell_type": "markdown",
            "source": "## We'll start with some stupid PowerShell tricks",
            "metadata": {}
        },
        {
            "cell_type": "code",
            "source": "1..10 ",
            "metadata": {},
            "outputs": [],
            "execution_count": 15
        },
        {
            "cell_type": "code",
            "source": "30..35",
            "metadata": {},
            "outputs": [],
            "execution_count": 17
        },
        {
            "cell_type": "code",
            "source": "1..50 | Get-Random",
            "metadata": {},
            "outputs": [],
            "execution_count": 20
        },
        {
            "cell_type": "markdown",
            "source": "Here's a real-word application for that 'Stupid PowerShell Trick'",
            "metadata": {}
        },
        {
            "cell_type": "code",
            "source": "90..1 |\r\nforeach {\r\n((Get-Date).Date).AddDays($_);\r\n}",
            "metadata": {},
            "outputs": [],
            "execution_count": 22
        },
        {
            "cell_type": "code",
            "source": "90..1 |\r\nforeach {\r\n$Start=((Get-Date).Date).AddDays(-$_);            \r\n\"-StartDate $($Start) -EndDate $($Start.AddDays(1))\"\r\n}",
            "metadata": {},
            "outputs": [],
            "execution_count": 24
        },
        {
            "cell_type": "markdown",
            "source": "Now for some total laziness.",
            "metadata": {}
        },
        {
            "cell_type": "code",
            "source": "<# This won't work so well #>\r\nGet-Command -Module SqlServer | SELECT Name, Version | ConvertTo-Csv -NoTypeInformation | clip\r\n<# But adding \"-Delimiter `t\" will fix it #>\r\nGet-Command -Module SqlServer | SELECT Name, Version | ConvertTo-Csv -NoTypeInformation -Delimiter `t | clip",
            "metadata": {},
            "outputs": [],
            "execution_count": 13
        },
        {
            "cell_type": "markdown",
            "source": "Search for a specific type of parameter:",
            "metadata": {}
        },
        {
            "cell_type": "code",
            "source": "Get-Command -Module SqlServer -ParameterName Script | SELECT Name, Parameters\r\n<# But there is a chance the parameter might not be named -Database #>\r\nGet-Command -Module SqlServer -ParameterType Microsoft.SqlServer.Management.Smo.Database\r\n",
            "metadata": {},
            "outputs": [],
            "execution_count": 0
        },
        {
            "cell_type": "markdown",
            "source": "But why bother with that when you can go straight to Excel?",
            "metadata": {}
        },
        {
            "cell_type": "code",
            "source": "Get-Command -Module SqlServer -ParameterName Script | Export-Excel -Path c:\\temp\\SqlServer_cmdlets.xlsx -WorksheetName Script -Show",
            "metadata": {},
            "outputs": [
                {
                    "output_type": "stream",
                    "name": "stdout",
                    "text": ""
                }
            ],
            "execution_count": 28
        },
        {
            "cell_type": "code",
            "source": "$SQLCred = Get-Credential sa\r\n$MyDatabases = Get-SqlDatabase -ServerInstance 'localhost,10002' -Credential $SQLCred\r\n\r\nGet-SqlDatabase -ServerInstance 'localhost,10002' -Credential $SQLCred |\r\nBackup-SqlDatabase -Script",
            "metadata": {},
            "outputs": [],
            "execution_count": 0
        }
    ]
}