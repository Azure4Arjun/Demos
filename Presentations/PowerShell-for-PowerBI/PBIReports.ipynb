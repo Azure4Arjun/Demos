{
    "metadata": {
        "kernelspec": {
            "name": "powershell",
            "display_name": "PowerShell",
            "language": "powershell"
        },
        "language_info": {
            "name": "powershell",
            "codemirror_mode": "shell",
            "mimetype": "text/x-sh",
            "file_extension": ".ps1"
        }
    },
    "nbformat_minor": 2,
    "nbformat": 4,
    "cells": [
        {
            "cell_type": "code",
            "source": [
                "Get-PowerBIReport -Workspace (Get-PowerBIWorkspace -Name QA) | ft -AutoSize"
            ],
            "metadata": {
                "azdata_cell_guid": "7349d54b-580c-41fd-b6d0-cbcf48488102",
                "tags": [
                    "parameters"
                ]
            },
            "outputs": [],
            "execution_count": null
        }
    ]
}